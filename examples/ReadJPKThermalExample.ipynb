{
 "cells": [
  {
   "cell_type": "code",
   "execution_count": 1,
   "id": "a5cb0c6b",
   "metadata": {},
   "outputs": [
    {
     "name": "stdout",
     "output_type": "stream",
     "text": [
      "Found existing installation: pyafmreader x.x.x\n",
      "Uninstalling pyafmreader-x.x.x:\n",
      "  Successfully uninstalled pyafmreader-x.x.x\n",
      "Note: you may need to restart the kernel to use updated packages.\n",
      "Collecting git+https://github.com/jlopezalo/pyafmreader.git\n",
      "  Cloning https://github.com/jlopezalo/pyafmreader.git to /private/var/folders/4k/ps22fmxj3gx6vls78t2p63wh0000gn/T/pip-req-build-yqs7s7uf\n",
      "  Running command git clone -q https://github.com/jlopezalo/pyafmreader.git /private/var/folders/4k/ps22fmxj3gx6vls78t2p63wh0000gn/T/pip-req-build-yqs7s7uf\n",
      "Collecting fasterzip@ git+https://github.com/TkTech/fasterzip.git\n",
      "  Cloning https://github.com/TkTech/fasterzip.git to /private/var/folders/4k/ps22fmxj3gx6vls78t2p63wh0000gn/T/pip-install-a317r3n1/fasterzip_cd04b36c6bca4363ac776d98b45327bd\n",
      "  Running command git clone -q https://github.com/TkTech/fasterzip.git /private/var/folders/4k/ps22fmxj3gx6vls78t2p63wh0000gn/T/pip-install-a317r3n1/fasterzip_cd04b36c6bca4363ac776d98b45327bd\n",
      "Requirement already satisfied: Cython>=0.29.28 in /opt/anaconda3/lib/python3.8/site-packages (from pyafmreader===x.x.x) (0.29.28)\n",
      "Requirement already satisfied: numpy>=1.22 in /opt/anaconda3/lib/python3.8/site-packages (from pyafmreader===x.x.x) (1.23.0)\n",
      "Building wheels for collected packages: pyafmreader\n",
      "  Building wheel for pyafmreader (setup.py) ... \u001b[?25ldone\n",
      "\u001b[?25h  Created wheel for pyafmreader: filename=pyafmreader-x.x.x-py3-none-any.whl size=26217 sha256=ea9af2c7206f0939b5c4135fc2f6db74ca47b613eefc3f8ce81f1c92b89f9f4b\n",
      "  Stored in directory: /private/var/folders/4k/ps22fmxj3gx6vls78t2p63wh0000gn/T/pip-ephem-wheel-cache-f7_ca2cv/wheels/2c/b3/db/527ab21e846be46a69f6ee973092a5c8b3d1a47ee176dbc2b9\n",
      "\u001b[33m  WARNING: Built wheel for pyafmreader is invalid: Metadata 1.2 mandates PEP 440 version, but 'x.x.x' is not\u001b[0m\n",
      "Failed to build pyafmreader\n",
      "Installing collected packages: pyafmreader\n",
      "    Running setup.py install for pyafmreader ... \u001b[?25ldone\n",
      "\u001b[33m  DEPRECATION: pyafmreader was installed using the legacy 'setup.py install' method, because a wheel could not be built for it. A possible replacement is to fix the wheel build issue reported above. You can find discussion regarding this at https://github.com/pypa/pip/issues/8368.\u001b[0m\n",
      "\u001b[?25hSuccessfully installed pyafmreader-x.x.x\n",
      "Note: you may need to restart the kernel to use updated packages.\n"
     ]
    }
   ],
   "source": [
    "# Setup:\n",
    "# 1. Uninstall previous version if already installed\n",
    "%pip uninstall pyafmreader -y\n",
    "# 2. Install pyafmreader from github \n",
    "# (temporary, when 1.0 releases it will be available via pip)\n",
    "%pip install git+https://github.com/jlopezalo/pyafmreader.git"
   ]
  },
  {
   "cell_type": "code",
   "execution_count": 2,
   "id": "256ab05e",
   "metadata": {},
   "outputs": [
    {
     "name": "stdout",
     "output_type": "stream",
     "text": [
      "Help on function loadfile in module pyafmreader.pyafmreader:\n",
      "\n",
      "loadfile(filepath)\n",
      "    Load AFM file. \n",
      "    \n",
      "    Supported formats:\n",
      "        - JPK --> .jpk-force, .jpk-force-map, .jpk-qi-data\n",
      "        - JPK Thermal --> .tnd\n",
      "        - NANOSCOPE --> .spm, .pfc\n",
      "        - UFF --> .uff\n",
      "    \n",
      "            Parameters:\n",
      "                    filepath (str): Path to the file.\n",
      "            \n",
      "            Returns:\n",
      "                    If JPK, NANOSCOPE OR UFF:\n",
      "                        UFF (uff.UFF): Universal File Format object containing loaded data.\n",
      "                    If JPK Thermal:\n",
      "                        Amplitude (m^2/V) (np.array),\n",
      "                        Frequencies (Hz) (np.array),\n",
      "                        Fit-Data (m^2/V) (np.array),\n",
      "                        Parameters (dict)\n",
      "\n"
     ]
    }
   ],
   "source": [
    "# 1. Import pyafmreader loadfile and matplotlib\n",
    "from pyafmreader import loadfile\n",
    "import matplotlib.pyplot as plt\n",
    "\n",
    "# Get documentation about loadfile function\n",
    "help(loadfile)"
   ]
  },
  {
   "cell_type": "code",
   "execution_count": 8,
   "id": "8a8e825b",
   "metadata": {},
   "outputs": [
    {
     "name": "stdout",
     "output_type": "stream",
     "text": [
      "['thermal noise data']\n",
      "['sensitivity', '11.0399 nm/V']\n",
      "['spring constant', '45.8785 mN/m']\n",
      "['fit parameter:']\n",
      "['parameter.f', '24.25 kHz']\n",
      "['parameter.Q', '2.050']\n",
      "['parameter.A', '92.12 µV/√Hz']\n",
      "['parameter.noise', '4.501×10⁻¹⁰ V²/Hz']\n",
      "['parameter.Corrected K', '5.423×10⁻¹⁸ N/m']\n",
      "['parameter.Corrected Vertical K', '5.592×10⁻¹⁸ N/m']\n",
      "['settings:']\n",
      "['settings.method', 'Contact-free']\n",
      "['settings.temperature', '25.0 ℃']\n",
      "['settings.environment', 'Water']\n",
      "['settings.environment density', '997.0 kg/m³']\n",
      "['settings.environment viscosity', '890.0 µPa·s']\n",
      "['cantilever.name', 'PFQNM-LC-A']\n",
      "['cantilever.width', '4.5 µm']\n",
      "['cantilever.length', '54.0 µm']\n",
      "['cantilever.angle', '10° + 0.0 °']\n",
      "['cantilever.correction factor', '0.9000']\n",
      "['Channels', \"'Frequency' 'Vertical Deflection' 'average' 'fit-data' \"]\n",
      "['Units', \"'Hz' 'V²/Hz' 'V²/Hz' 'V²/Hz'\"]\n",
      "<class 'numpy.ndarray'>\n",
      "<class 'numpy.ndarray'>\n",
      "<class 'numpy.ndarray'>\n",
      "<class 'dict'>\n"
     ]
    }
   ],
   "source": [
    "# 2. Load one of the test files\n",
    "JPK_THERMAL_PATH = '../tests/testfiles/PFQNM-H2O-thermal-noise-data_vDeflection_2022.01.12-11.37.51.tnd'\n",
    "\n",
    "Amplitude, Frequencies, FitData, Parameters = loadfile(JPK_THERMAL_PATH)\n",
    "\n",
    "print(type(Amplitude))\n",
    "print(type(Frequencies))\n",
    "print(type(FitData))\n",
    "print(type(Parameters))"
   ]
  },
  {
   "cell_type": "code",
   "execution_count": 7,
   "id": "0b27b9ba",
   "metadata": {},
   "outputs": [
    {
     "name": "stdout",
     "output_type": "stream",
     "text": [
      "sensitivity: 1.10399e-08\n",
      "spring constant: 0.0458785\n",
      "parameter.f: 24250.0\n",
      "parameter.Q: 2.050\n",
      "parameter.A: 9.212e-05\n",
      "parameter.noise: 4.501×10⁻¹⁰\n",
      "parameter.Corrected K: 5.423×10⁻¹⁸\n",
      "parameter.Corrected Vertical K: 5.592×10⁻¹⁸\n",
      "settings.method: Contact-free\n",
      "settings.temperature: 25.0\n",
      "settings.environment: Water\n",
      "settings.environment density: 997000.0\n",
      "settings.environment viscosity: 0.00089\n",
      "cantilever.name: PFQNM-LC-A\n",
      "cantilever.width: 4.5e-06\n",
      "cantilever.length: 5.4e-05\n",
      "cantilever.angle: 10° + 0.0 °\n",
      "cantilever.correction factor: 0.9000\n",
      "Channels: 'Frequency' 'Vertical Deflection' 'average' 'fit-data' \n",
      "Units: 'Hz' 'V²/Hz' 'V²/Hz' 'V²/Hz'\n"
     ]
    }
   ],
   "source": [
    "# 3. Visualize metadata\n",
    "for key, val in Parameters.items():\n",
    "    print(f'{key}: {val}')"
   ]
  },
  {
   "cell_type": "code",
   "execution_count": null,
   "id": "8f0b44ef",
   "metadata": {},
   "outputs": [],
   "source": [
    "# 4. Plot file data\n",
    "plt.plot(Frequencies * 1e-3, Amplitude * (1e12 ** 2), label='Raw data')\n",
    "plt.plot(Frequencies * 1e-3, FitData * (1e12 ** 2), label='JPK Fit')\n",
    "plt.xscale('log')\n",
    "plt.yscale('log')\n",
    "plt.xlabel('Frequency (KHz)')\n",
    "plt.ylabel('Amplitude (pm^2/V)')\n",
    "plt.show()"
   ]
  }
 ],
 "metadata": {
  "kernelspec": {
   "display_name": "Python 3",
   "language": "python",
   "name": "python3"
  },
  "language_info": {
   "codemirror_mode": {
    "name": "ipython",
    "version": 3
   },
   "file_extension": ".py",
   "mimetype": "text/x-python",
   "name": "python",
   "nbconvert_exporter": "python",
   "pygments_lexer": "ipython3",
   "version": "3.8.8"
  }
 },
 "nbformat": 4,
 "nbformat_minor": 5
}
