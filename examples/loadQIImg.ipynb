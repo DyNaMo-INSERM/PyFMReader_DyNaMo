{
 "cells": [
  {
   "cell_type": "code",
   "execution_count": 36,
   "id": "2f0d7848",
   "metadata": {},
   "outputs": [],
   "source": [
    "from PIL import Image\n",
    "import numpy as np\n",
    "import matplotlib.pyplot as plt"
   ]
  },
  {
   "cell_type": "code",
   "execution_count": 37,
   "id": "166fe506",
   "metadata": {},
   "outputs": [],
   "source": [
    "path = '../tests/testfiles/data-image.jpk-qi-image'\n",
    "# path = '../tests/testfiles/data-image.force'"
   ]
  },
  {
   "cell_type": "code",
   "execution_count": 40,
   "id": "3ed20277",
   "metadata": {},
   "outputs": [
    {
     "name": "stdout",
     "output_type": "stream",
     "text": [
      " Baseline found\n",
      "['Force', 'SignedInteger', 'N', 'LinearScaling', 4.9506119691022593e-20, 6.849938707651843e-10]\n",
      "4.9506119691022593e-20\n",
      "6.849938707651843e-10\n",
      "True\n",
      "True\n",
      "7.913074532280799e-10\n",
      "5.786802882527824e-10\n",
      " Height found\n",
      "['Calibrated height', 'SignedInteger', 'm', 'LinearScaling', -2.619722123404414e-16, 2.1982782230499335e-06]\n",
      "-2.619722123404414e-16\n",
      "2.1982782230499335e-06\n",
      "True\n",
      "True\n",
      "2.7608592652814153e-06\n",
      "1.6356971810804242e-06\n",
      " Adhesion found\n",
      "['Force', 'SignedInteger', 'N', 'LinearScaling', 2.8135609905604375e-19, 2.6274581910800083e-10]\n",
      "2.8135609905604375e-19\n",
      "2.6274581910800083e-10\n",
      "True\n",
      "True\n",
      "8.669534408145669e-10\n",
      "-3.4146180287992136e-10\n",
      " Height (measured) found\n",
      "['Nominal height', 'SignedInteger', 'm', 'LinearScaling', 2.320967649637164e-16, 2.1360429914599653e-06]\n",
      "2.320967649637164e-16\n",
      "2.1360429914599653e-06\n",
      "True\n",
      "True\n",
      "2.6344669987411486e-06\n",
      "1.637618983946685e-06\n",
      " Slope Fit found\n",
      "['volts', 'SignedInteger', 'N/m', 'LinearScaling', 2.831381449166693e-11, 0.0619884132756885]\n",
      "2.831381449166693e-11\n",
      "0.0619884132756885\n",
      "True\n",
      "True\n",
      "0.12279186688073485\n",
      "0.0011849596423283357\n"
     ]
    }
   ],
   "source": [
    "import tifffile\n",
    "data = []\n",
    "with tifffile.TiffFile(path) as tif:\n",
    "    for i, page in enumerate(tif.pages[1:]):\n",
    "        mult = 1\n",
    "        offset = 0\n",
    "        tif_tags = []\n",
    "        for tag in page.tags.values():\n",
    "            tif_tags.append(tag.value)\n",
    "        for tag in tif_tags:\n",
    "            try:\n",
    "                if 'algorithm.object-name.base-object-name.fancy-name' in tag:\n",
    "                    channel_name = tag.split('\\n')[0].split(':')[1]\n",
    "            except TypeError:\n",
    "                pass\n",
    "        if 'Baseline' in channel_name:\n",
    "            print(f'{channel_name} found')\n",
    "            info = tif_tags[-6:]\n",
    "            mult = info[-2]\n",
    "            offset = info[-1]\n",
    "        elif 'Height (measured)' in channel_name:\n",
    "            print(f'{channel_name} found')\n",
    "            info = tif_tags[-6:]\n",
    "            mult = info[-2]\n",
    "            offset = info[-1]\n",
    "        elif 'Slope Fit' in channel_name:\n",
    "            print(f'{channel_name} found')\n",
    "            info = tif_tags[-6:]\n",
    "            mult = info[-2]\n",
    "            offset = info[-1]\n",
    "        elif 'Adhesion' in channel_name:\n",
    "            print(f'{channel_name} found')\n",
    "            info = tif_tags[-6:]\n",
    "            mult = info[-2]\n",
    "            offset = info[-1]\n",
    "        elif 'Height' in channel_name:\n",
    "            print(f'{channel_name} found')\n",
    "            info = tif_tags[-6:]\n",
    "            mult = info[-2]\n",
    "            offset = info[-1]\n",
    "        print(info)\n",
    "        print(mult)\n",
    "        print(offset)\n",
    "        # .index(item, start, end)\n",
    "        image = page.asarray()\n",
    "        print(isinstance(mult, float))\n",
    "        print(isinstance(offset, float))\n",
    "        scaled_data = image.astype(np.int64) * mult + offset\n",
    "        print(scaled_data.max())\n",
    "        print(scaled_data.min())\n",
    "        data.append((channel_name, scaled_data))"
   ]
  },
  {
   "cell_type": "code",
   "execution_count": null,
   "id": "e29bf50e",
   "metadata": {},
   "outputs": [],
   "source": []
  },
  {
   "cell_type": "code",
   "execution_count": null,
   "id": "905ee996",
   "metadata": {},
   "outputs": [],
   "source": []
  }
 ],
 "metadata": {
  "kernelspec": {
   "display_name": "Python 3",
   "language": "python",
   "name": "python3"
  },
  "language_info": {
   "codemirror_mode": {
    "name": "ipython",
    "version": 3
   },
   "file_extension": ".py",
   "mimetype": "text/x-python",
   "name": "python",
   "nbconvert_exporter": "python",
   "pygments_lexer": "ipython3",
   "version": "3.8.8"
  }
 },
 "nbformat": 4,
 "nbformat_minor": 5
}
