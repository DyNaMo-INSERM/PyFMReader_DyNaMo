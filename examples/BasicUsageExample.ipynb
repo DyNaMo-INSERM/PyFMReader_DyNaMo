{
 "cells": [
  {
   "cell_type": "code",
   "execution_count": 1,
   "id": "a2b4d21e",
   "metadata": {},
   "outputs": [
    {
     "name": "stdout",
     "output_type": "stream",
     "text": [
      "Collecting git+https://github.com/jlopezalo/pyafmreader.git\n",
      "  Cloning https://github.com/jlopezalo/pyafmreader.git to /private/var/folders/4k/ps22fmxj3gx6vls78t2p63wh0000gn/T/pip-req-build-lfk2o6w0\n",
      "  Running command git clone -q https://github.com/jlopezalo/pyafmreader.git /private/var/folders/4k/ps22fmxj3gx6vls78t2p63wh0000gn/T/pip-req-build-lfk2o6w0\n",
      "Collecting fasterzip@ git+https://github.com/TkTech/fasterzip.git\n",
      "  Cloning https://github.com/TkTech/fasterzip.git to /private/var/folders/4k/ps22fmxj3gx6vls78t2p63wh0000gn/T/pip-install-idiz4bc7/fasterzip_ba163cd2a27d4cb49909e601b7dfcfa0\n",
      "  Running command git clone -q https://github.com/TkTech/fasterzip.git /private/var/folders/4k/ps22fmxj3gx6vls78t2p63wh0000gn/T/pip-install-idiz4bc7/fasterzip_ba163cd2a27d4cb49909e601b7dfcfa0\n",
      "Collecting Cython==0.29.28\n",
      "  Using cached Cython-0.29.28-py2.py3-none-any.whl (983 kB)\n",
      "Collecting numpy==1.21.6\n",
      "  Downloading numpy-1.21.6-cp38-cp38-macosx_10_9_x86_64.whl (16.9 MB)\n",
      "\u001b[K     |████████████████████████████████| 16.9 MB 981 kB/s eta 0:00:01\n",
      "\u001b[?25hBuilding wheels for collected packages: pyafmreader, fasterzip\n",
      "  Building wheel for pyafmreader (setup.py) ... \u001b[?25ldone\n",
      "\u001b[?25h  Created wheel for pyafmreader: filename=pyafmreader-x.x.x-py3-none-any.whl size=22787 sha256=7dbef9a52931477144219acf2e8b1ee9f6a961abacd805c343d46c93056cd223\n",
      "  Stored in directory: /private/var/folders/4k/ps22fmxj3gx6vls78t2p63wh0000gn/T/pip-ephem-wheel-cache-mybhu0_q/wheels/2c/b3/db/527ab21e846be46a69f6ee973092a5c8b3d1a47ee176dbc2b9\n",
      "\u001b[33m  WARNING: Built wheel for pyafmreader is invalid: Metadata 1.2 mandates PEP 440 version, but 'x.x.x' is not\u001b[0m\n",
      "  Building wheel for fasterzip (setup.py) ... \u001b[?25ldone\n",
      "\u001b[?25h  Created wheel for fasterzip: filename=fasterzip-1.0-cp38-cp38-macosx_10_9_x86_64.whl size=83814 sha256=2ed6f6e59027da646511f7db39dce93c1e3aacad6f6d370cc6f82c080940d5e2\n",
      "  Stored in directory: /private/var/folders/4k/ps22fmxj3gx6vls78t2p63wh0000gn/T/pip-ephem-wheel-cache-mybhu0_q/wheels/49/b9/45/5a82b6d905fdc5732ad320ef7004fe97a72892fbce4c083808\n",
      "Successfully built fasterzip\n",
      "Failed to build pyafmreader\n",
      "Installing collected packages: Cython, numpy, fasterzip, pyafmreader\n",
      "  Attempting uninstall: Cython\n",
      "    Found existing installation: Cython 0.29.23\n",
      "    Uninstalling Cython-0.29.23:\n",
      "      Successfully uninstalled Cython-0.29.23\n",
      "  Attempting uninstall: numpy\n",
      "    Found existing installation: numpy 1.22.3\n",
      "    Uninstalling numpy-1.22.3:\n",
      "      Successfully uninstalled numpy-1.22.3\n",
      "    Running setup.py install for pyafmreader ... \u001b[?25ldone\n",
      "\u001b[33m  DEPRECATION: pyafmreader was installed using the legacy 'setup.py install' method, because a wheel could not be built for it. A possible replacement is to fix the wheel build issue reported above. You can find discussion regarding this at https://github.com/pypa/pip/issues/8368.\u001b[0m\n",
      "\u001b[31mERROR: pip's dependency resolver does not currently take into account all the packages that are installed. This behaviour is the source of the following dependency conflicts.\n",
      "vampireanalysis 3.4.5 requires numpy==1.17.4, but you have numpy 1.21.6 which is incompatible.\n",
      "vampireanalysis 3.4.5 requires pandas==0.25.3, but you have pandas 1.4.2 which is incompatible.\n",
      "vampireanalysis 3.4.5 requires scipy==1.3.3, but you have scipy 1.8.0 which is incompatible.\n",
      "bokeh 2.3.2 requires pillow>=7.1.0, but you have pillow 6.2.1 which is incompatible.\u001b[0m\n",
      "\u001b[?25hSuccessfully installed Cython-0.29.28 fasterzip-1.0 numpy-1.21.6 pyafmreader-x.x.x\n",
      "Note: you may need to restart the kernel to use updated packages.\n"
     ]
    }
   ],
   "source": [
    "# Setup: Install library\n",
    "%pip install git+https://github.com/jlopezalo/pyafmreader.git"
   ]
  },
  {
   "cell_type": "code",
   "execution_count": 3,
   "id": "0de19184",
   "metadata": {},
   "outputs": [
    {
     "ename": "ModuleNotFoundError",
     "evalue": "No module named 'pyafmreader.importutils'",
     "output_type": "error",
     "traceback": [
      "\u001b[0;31m---------------------------------------------------------------------------\u001b[0m",
      "\u001b[0;31mModuleNotFoundError\u001b[0m                       Traceback (most recent call last)",
      "\u001b[0;32m<ipython-input-3-41d75380a697>\u001b[0m in \u001b[0;36m<module>\u001b[0;34m\u001b[0m\n\u001b[0;32m----> 1\u001b[0;31m \u001b[0;32mfrom\u001b[0m \u001b[0mpyafmreader\u001b[0m \u001b[0;32mimport\u001b[0m \u001b[0mloadfile\u001b[0m\u001b[0;34m\u001b[0m\u001b[0;34m\u001b[0m\u001b[0m\n\u001b[0m\u001b[1;32m      2\u001b[0m \u001b[0;34m\u001b[0m\u001b[0m\n\u001b[1;32m      3\u001b[0m \u001b[0mNANOSC_FV_PATH\u001b[0m \u001b[0;34m=\u001b[0m \u001b[0;34m'tests/testfiles/20200903_Egel2.0_00023.spm'\u001b[0m\u001b[0;34m\u001b[0m\u001b[0;34m\u001b[0m\u001b[0m\n\u001b[1;32m      4\u001b[0m \u001b[0;34m\u001b[0m\u001b[0m\n\u001b[1;32m      5\u001b[0m \u001b[0mNANOSC_FV_FILE\u001b[0m \u001b[0;34m=\u001b[0m \u001b[0mloadfile\u001b[0m\u001b[0;34m(\u001b[0m\u001b[0mNANOSC_FV_PATH\u001b[0m\u001b[0;34m)\u001b[0m\u001b[0;34m\u001b[0m\u001b[0;34m\u001b[0m\u001b[0m\n",
      "\u001b[0;32m/opt/anaconda3/lib/python3.8/site-packages/pyafmreader/__init__.py\u001b[0m in \u001b[0;36m<module>\u001b[0;34m\u001b[0m\n\u001b[1;32m      1\u001b[0m \u001b[0;32mfrom\u001b[0m \u001b[0;34m.\u001b[0m\u001b[0mconstants\u001b[0m \u001b[0;32mimport\u001b[0m \u001b[0;34m*\u001b[0m\u001b[0;34m\u001b[0m\u001b[0;34m\u001b[0m\u001b[0m\n\u001b[0;32m----> 2\u001b[0;31m \u001b[0;32mfrom\u001b[0m \u001b[0;34m.\u001b[0m\u001b[0mimportutils\u001b[0m \u001b[0;32mimport\u001b[0m \u001b[0;34m*\u001b[0m\u001b[0;34m\u001b[0m\u001b[0;34m\u001b[0m\u001b[0m\n\u001b[0m\u001b[1;32m      3\u001b[0m \u001b[0;32mfrom\u001b[0m \u001b[0;34m.\u001b[0m\u001b[0mload_uff\u001b[0m \u001b[0;32mimport\u001b[0m \u001b[0;34m*\u001b[0m\u001b[0;34m\u001b[0m\u001b[0;34m\u001b[0m\u001b[0m\n\u001b[1;32m      4\u001b[0m \u001b[0;32mfrom\u001b[0m \u001b[0;34m.\u001b[0m\u001b[0mpyafmreader\u001b[0m \u001b[0;32mimport\u001b[0m \u001b[0;34m*\u001b[0m\u001b[0;34m\u001b[0m\u001b[0;34m\u001b[0m\u001b[0m\n\u001b[1;32m      5\u001b[0m \u001b[0;32mfrom\u001b[0m \u001b[0;34m.\u001b[0m\u001b[0msave_uff\u001b[0m \u001b[0;32mimport\u001b[0m \u001b[0;34m*\u001b[0m\u001b[0;34m\u001b[0m\u001b[0;34m\u001b[0m\u001b[0m\n",
      "\u001b[0;31mModuleNotFoundError\u001b[0m: No module named 'pyafmreader.importutils'"
     ]
    }
   ],
   "source": [
    "from pyafmreader import loadfile\n",
    "\n",
    "NANOSC_FV_PATH = 'tests/testfiles/20200903_Egel2.0_00023.spm'\n",
    "\n",
    "NANOSC_FV_FILE = loadfile(NANOSC_FV_PATH)\n",
    "\n",
    "metadata = NANOSC_FV_FILE.filemetadata\n",
    "\n",
    "piezoimg = NANOSC_FV_FILE.getpiezoimg()\n",
    "\n",
    "FC = NANOSC_FV_FILE.getcurve(0)\n",
    "\n",
    "FC_segments = FC.get_segments()\n",
    "\n",
    "segment_0 = FC_segments[0]"
   ]
  },
  {
   "cell_type": "code",
   "execution_count": null,
   "id": "5e3d6ef7",
   "metadata": {},
   "outputs": [],
   "source": []
  }
 ],
 "metadata": {
  "kernelspec": {
   "display_name": "Python 3",
   "language": "python",
   "name": "python3"
  },
  "language_info": {
   "codemirror_mode": {
    "name": "ipython",
    "version": 3
   },
   "file_extension": ".py",
   "mimetype": "text/x-python",
   "name": "python",
   "nbconvert_exporter": "python",
   "pygments_lexer": "ipython3",
   "version": "3.8.8"
  }
 },
 "nbformat": 4,
 "nbformat_minor": 5
}
