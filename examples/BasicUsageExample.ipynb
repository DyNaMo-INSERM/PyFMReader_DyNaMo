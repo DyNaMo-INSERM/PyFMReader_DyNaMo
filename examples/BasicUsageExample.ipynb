{
 "cells": [
  {
   "cell_type": "code",
   "execution_count": null,
   "id": "79a6de38",
   "metadata": {},
   "outputs": [
    {
     "name": "stdout",
     "output_type": "stream",
     "text": [
      "Found existing installation: pyafmreader x.x.x\n",
      "Uninstalling pyafmreader-x.x.x:\n",
      "  Successfully uninstalled pyafmreader-x.x.x\n",
      "Note: you may need to restart the kernel to use updated packages.\n",
      "Collecting git+https://github.com/jlopezalo/pyafmreader.git\n",
      "  Cloning https://github.com/jlopezalo/pyafmreader.git to /private/var/folders/4k/ps22fmxj3gx6vls78t2p63wh0000gn/T/pip-req-build-hkf9lzv6\n",
      "  Running command git clone -q https://github.com/jlopezalo/pyafmreader.git /private/var/folders/4k/ps22fmxj3gx6vls78t2p63wh0000gn/T/pip-req-build-hkf9lzv6\n",
      "Collecting fasterzip@ git+https://github.com/TkTech/fasterzip.git\n",
      "  Cloning https://github.com/TkTech/fasterzip.git to /private/var/folders/4k/ps22fmxj3gx6vls78t2p63wh0000gn/T/pip-install-7q90zd9o/fasterzip_5b106e5ab9f648cab22db59035060f1b\n",
      "  Running command git clone -q https://github.com/TkTech/fasterzip.git /private/var/folders/4k/ps22fmxj3gx6vls78t2p63wh0000gn/T/pip-install-7q90zd9o/fasterzip_5b106e5ab9f648cab22db59035060f1b\n",
      "Requirement already satisfied: Cython==0.29.28 in /opt/anaconda3/lib/python3.8/site-packages (from pyafmreader===x.x.x) (0.29.28)\n",
      "Requirement already satisfied: numpy==1.21.6 in /opt/anaconda3/lib/python3.8/site-packages (from pyafmreader===x.x.x) (1.21.6)\n",
      "Building wheels for collected packages: pyafmreader\n",
      "  Building wheel for pyafmreader (setup.py) ... \u001b[?25ldone\n",
      "\u001b[?25h  Created wheel for pyafmreader: filename=pyafmreader-x.x.x-py3-none-any.whl size=22803 sha256=2fafb8e1cfea21042c0c7112c48b75d45d405deaeb369071b810e3fe76c43d66\n",
      "  Stored in directory: /private/var/folders/4k/ps22fmxj3gx6vls78t2p63wh0000gn/T/pip-ephem-wheel-cache-30ra00o4/wheels/2c/b3/db/527ab21e846be46a69f6ee973092a5c8b3d1a47ee176dbc2b9\n",
      "\u001b[33m  WARNING: Built wheel for pyafmreader is invalid: Metadata 1.2 mandates PEP 440 version, but 'x.x.x' is not\u001b[0m\n",
      "Failed to build pyafmreader\n",
      "Installing collected packages: pyafmreader\n"
     ]
    }
   ],
   "source": [
    "# Setup:\n",
    "# 1. Uninstall previous version if already installed\n",
    "%pip uninstall pyafmreader -y\n",
    "# 2. Install pyafmreader from github \n",
    "# (temporary, when 1.0 releases it will be available via pip)\n",
    "%pip install git+https://github.com/jlopezalo/pyafmreader.git"
   ]
  },
  {
   "cell_type": "code",
   "execution_count": null,
   "id": "18fc1c12",
   "metadata": {},
   "outputs": [],
   "source": [
    "# 1. Import pyafmreader loadfile and matplotlib\n",
    "from pyafmreader import loadfile\n",
    "import matplotlib.pyplot as plt\n",
    "\n",
    "# Get documentation about loadfile function\n",
    "help(loadfile)"
   ]
  },
  {
   "cell_type": "code",
   "execution_count": null,
   "id": "a85b3de1",
   "metadata": {},
   "outputs": [],
   "source": [
    "# 2. Load one of the test files\n",
    "NANOSC_PFC_PATH = '../tests/testfiles/08171528.0_00001.pfc'\n",
    "\n",
    "NANOSC_PFC_FILE = loadfile(NANOSC_PFC_PATH)\n",
    "\n",
    "type(NANOSC_PFC_FILE)"
   ]
  },
  {
   "cell_type": "code",
   "execution_count": null,
   "id": "c6a4f364",
   "metadata": {},
   "outputs": [],
   "source": [
    "# 3. Get file metadata\n",
    "metadata = NANOSC_PFC_FILE.filemetadata\n",
    "\n",
    "for key, item in metadata.items():\n",
    "    print(f\"{key} : {item}\\n\") "
   ]
  },
  {
   "cell_type": "code",
   "execution_count": null,
   "id": "75f6bd4b",
   "metadata": {},
   "outputs": [],
   "source": [
    "# 4. Get force volume piezo image and plot it\n",
    "piezoimg = NANOSC_PFC_FILE.getpiezoimg()\n",
    "\n",
    "plt.figure(figsize=(10,10))\n",
    "plt.imshow(piezoimg[:, :, 0], cmap='afmhot', origin='lower')\n",
    "plt.show()"
   ]
  },
  {
   "cell_type": "code",
   "execution_count": null,
   "id": "38e90d52",
   "metadata": {},
   "outputs": [],
   "source": [
    "# 5. Get force curve at index 0\n",
    "FC = NANOSC_PFC_FILE.getcurve(0)\n",
    "\n",
    "type(FC)"
   ]
  },
  {
   "cell_type": "code",
   "execution_count": null,
   "id": "75c52c76",
   "metadata": {},
   "outputs": [],
   "source": [
    "help(FC.preprocess_force_curve)"
   ]
  },
  {
   "cell_type": "code",
   "execution_count": null,
   "id": "70cd124f",
   "metadata": {},
   "outputs": [],
   "source": [
    "# 6. Preprocess curve with the deflection sens in the header\n",
    "defl_sens = metadata['defl_sens_nmbyV']\n",
    "FC.preprocess_force_curve(defl_sens, 'height')"
   ]
  },
  {
   "cell_type": "code",
   "execution_count": null,
   "id": "434862f4",
   "metadata": {},
   "outputs": [],
   "source": [
    "FC_segments = FC.get_segments()\n",
    "\n",
    "segment_0 = FC_segments[0]"
   ]
  },
  {
   "cell_type": "code",
   "execution_count": null,
   "id": "3597e00c",
   "metadata": {},
   "outputs": [],
   "source": []
  }
 ],
 "metadata": {
  "kernelspec": {
   "display_name": "Python 3",
   "language": "python",
   "name": "python3"
  },
  "language_info": {
   "codemirror_mode": {
    "name": "ipython",
    "version": 3
   },
   "file_extension": ".py",
   "mimetype": "text/x-python",
   "name": "python",
   "nbconvert_exporter": "python",
   "pygments_lexer": "ipython3",
   "version": "3.8.8"
  }
 },
 "nbformat": 4,
 "nbformat_minor": 5
}
