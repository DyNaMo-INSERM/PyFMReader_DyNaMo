{
 "cells": [
  {
   "cell_type": "code",
   "execution_count": 1,
   "id": "ea106796",
   "metadata": {},
   "outputs": [
    {
     "name": "stdout",
     "output_type": "stream",
     "text": [
      "Found existing installation: pyafmreader x.x.x\n",
      "Uninstalling pyafmreader-x.x.x:\n",
      "  Successfully uninstalled pyafmreader-x.x.x\n",
      "Note: you may need to restart the kernel to use updated packages.\n",
      "Collecting git+https://github.com/jlopezalo/pyafmreader.git\n",
      "  Cloning https://github.com/jlopezalo/pyafmreader.git to /private/var/folders/4k/ps22fmxj3gx6vls78t2p63wh0000gn/T/pip-req-build-_cazlmms\n",
      "  Running command git clone --filter=blob:none --quiet https://github.com/jlopezalo/pyafmreader.git /private/var/folders/4k/ps22fmxj3gx6vls78t2p63wh0000gn/T/pip-req-build-_cazlmms\n",
      "  Resolved https://github.com/jlopezalo/pyafmreader.git to commit f750f951e150848e7a69cc8b4182f89181c9a822\n",
      "  Preparing metadata (setup.py) ... \u001b[?25ldone\n",
      "\u001b[?25hCollecting fasterzip@ git+https://github.com/TkTech/fasterzip.git\n",
      "  Cloning https://github.com/TkTech/fasterzip.git to /private/var/folders/4k/ps22fmxj3gx6vls78t2p63wh0000gn/T/pip-install-_6bnlcog/fasterzip_929f50db6aff42b9b463455330e33394\n",
      "  Running command git clone --filter=blob:none --quiet https://github.com/TkTech/fasterzip.git /private/var/folders/4k/ps22fmxj3gx6vls78t2p63wh0000gn/T/pip-install-_6bnlcog/fasterzip_929f50db6aff42b9b463455330e33394\n",
      "  Resolved https://github.com/TkTech/fasterzip.git to commit 09e2cae7821f96f4ba8f6d4122e1045352a656b4\n",
      "  Preparing metadata (setup.py) ... \u001b[?25ldone\n",
      "\u001b[?25hRequirement already satisfied: Cython>=0.29.28 in /Library/Frameworks/Python.framework/Versions/3.10/lib/python3.10/site-packages (from pyafmreader===x.x.x) (0.29.32)\n",
      "Requirement already satisfied: numpy in /Library/Frameworks/Python.framework/Versions/3.10/lib/python3.10/site-packages (from pyafmreader===x.x.x) (1.23.4)\n",
      "Using legacy 'setup.py install' for pyafmreader, since package 'wheel' is not installed.\n",
      "Installing collected packages: pyafmreader\n",
      "  Running setup.py install for pyafmreader ... \u001b[?25ldone\n",
      "\u001b[?25hSuccessfully installed pyafmreader-x.x.x\n",
      "\n",
      "\u001b[1m[\u001b[0m\u001b[34;49mnotice\u001b[0m\u001b[1;39;49m]\u001b[0m\u001b[39;49m A new release of pip available: \u001b[0m\u001b[31;49m22.2.2\u001b[0m\u001b[39;49m -> \u001b[0m\u001b[32;49m22.3.1\u001b[0m\n",
      "\u001b[1m[\u001b[0m\u001b[34;49mnotice\u001b[0m\u001b[1;39;49m]\u001b[0m\u001b[39;49m To update, run: \u001b[0m\u001b[32;49mpip install --upgrade pip\u001b[0m\n",
      "Note: you may need to restart the kernel to use updated packages.\n"
     ]
    }
   ],
   "source": [
    "# Setup:\n",
    "# 1. Uninstall previous version if already installed\n",
    "%pip uninstall pyafmreader -y\n",
    "# 2. Install pyafmreader from github \n",
    "# (temporary, when 1.0 releases it will be available via pip)\n",
    "%pip install git+https://github.com/jlopezalo/pyafmreader.git"
   ]
  },
  {
   "cell_type": "code",
   "execution_count": 2,
   "id": "62364e0c",
   "metadata": {},
   "outputs": [
    {
     "name": "stdout",
     "output_type": "stream",
     "text": [
      "Help on function loadfile in module pyafmreader.pyafmreader:\n",
      "\n",
      "loadfile(filepath)\n",
      "    Load AFM file. \n",
      "    \n",
      "    Supported formats:\n",
      "        - JPK --> .jpk-force, .jpk-force-map, .jpk-qi-data\n",
      "        - JPK Thermal --> .tnd\n",
      "        - NANOSCOPE --> .spm, .pfc, .00X\n",
      "        - UFF --> .uff\n",
      "    \n",
      "            Parameters:\n",
      "                    filepath (str): Path to the file.\n",
      "            \n",
      "            Returns:\n",
      "                    If JPK, NANOSCOPE OR UFF:\n",
      "                        UFF (uff.UFF): Universal File Format object containing loaded data.\n",
      "                    If JPK Thermal:\n",
      "                        Amplitude (m^2/V) (np.array),\n",
      "                        Frequencies (Hz) (np.array),\n",
      "                        Fit-Data (m^2/V) (np.array),\n",
      "                        Parameters (dict)\n",
      "\n"
     ]
    }
   ],
   "source": [
    "# 1. Import pyafmreader loadfile and matplotlib\n",
    "from pyafmreader import loadfile\n",
    "import matplotlib.pyplot as plt\n",
    "import os\n",
    "\n",
    "# Get documentation about loadfile function\n",
    "help(loadfile)"
   ]
  },
  {
   "cell_type": "code",
   "execution_count": 3,
   "id": "76305922",
   "metadata": {},
   "outputs": [
    {
     "data": {
      "text/plain": [
       "pyafmreader.uff.UFF"
      ]
     },
     "execution_count": 3,
     "metadata": {},
     "output_type": "execute_result"
    }
   ],
   "source": [
    "# 2. Load one of the test files\n",
    "# NANOSC_PFC_PATH = '../tests/testfiles/08171528.0_00001.pfc'\n",
    "\n",
    "NANOSC_PFC_PATH = '../tests/testfiles/calibration3.000'\n",
    "\n",
    "NANOSC_PFC_FILE = loadfile(NANOSC_PFC_PATH)\n",
    "\n",
    "type(NANOSC_PFC_FILE)"
   ]
  },
  {
   "cell_type": "code",
   "execution_count": 4,
   "id": "dcd6a2d2",
   "metadata": {},
   "outputs": [
    {
     "name": "stdout",
     "output_type": "stream",
     "text": [
      "file_path : ../tests/testfiles/calibration3.000\n",
      "\n",
      "Entry_filename : calibration3.000\n",
      "\n",
      "file_size_bytes : 45056\n",
      "\n",
      "file_type : .000\n",
      "\n",
      "UFF_code : _1_2_3_4_5\n",
      "\n",
      "Entry_UFF_version : 0\n",
      "\n",
      "version : 0x09010201\n",
      "\n",
      "instru : BioScope Catalyst\n",
      "\n",
      "scanner : 1B923.scn\n",
      "\n",
      "zscan_sens_nmbyV : 106.3\n",
      "\n",
      "force_volume : 0\n",
      "\n",
      "xoffset_nm : 0.0\n",
      "\n",
      "yoffset_nm : 0.0\n",
      "\n",
      "piezo_nb_sampsline : 256\n",
      "\n",
      "xy_closed_loop : Off\n",
      "\n",
      "z_closed_loop : Off\n",
      "\n",
      "PFC_nb_samppoints : 1024\n",
      "\n",
      "NEW_sync_dist : 371\n",
      "\n",
      "QNM_sync_dist : 371\n",
      "\n",
      "PFC_amp : 500.0\n",
      "\n",
      "ramp_size_V : 9.407338\n",
      "\n",
      "PFC_freq : 0.5\n",
      "\n",
      "peakforce : 0\n",
      "\n",
      "defl_sens_nmbyV : 30.3677\n",
      "\n",
      "sens_z_sensor : 1280.381\n",
      "\n",
      "scan_rate_Hz : 1.02796\n",
      "\n",
      "speed_forward_Vbys : 19.3407\n",
      "\n",
      "speed_reverse_Vbys : 19.3407\n",
      "\n",
      "nb_point_approach : 508\n",
      "\n",
      "nb_point_retract : 512\n",
      "\n",
      "trigger_mode : Relative\n",
      "\n",
      "FDC_nb_sampsline : 16\n",
      "\n",
      "defl_sens_corr : 1.08\n",
      "\n",
      "defl_sens_Vbybyte : 0.000375\n",
      "\n",
      "data_offset : 40960\n",
      "\n",
      "FDC_data_length : 2048\n",
      "\n",
      "byte_per_pixel : 2\n",
      "\n",
      "spring_const_Nbym : 0.0677954\n",
      "\n",
      "z_scale_Vbybyte : 24.576\n",
      "\n",
      "Entry_tot_nb_curve : 1\n",
      "\n",
      "ramp_size_nm : 1000.0000293999999\n",
      "\n",
      "speed_forward_nmbys : 2055.91641\n",
      "\n",
      "speed_reverse_nmbys : 2055.91641\n",
      "\n",
      "zstep_approach_nm : 1.9685039948818897\n",
      "\n",
      "zstep_retract_nm : 1.9531250574218748\n",
      "\n",
      "ramp_duration_forward : 0.486401112679479\n",
      "\n",
      "ramp_duration_reverse : 0.486401112679479\n",
      "\n",
      "height_channel_key : height\n",
      "\n"
     ]
    }
   ],
   "source": [
    "# 3. Get file metadata\n",
    "metadata = NANOSC_PFC_FILE.filemetadata\n",
    "\n",
    "for key, item in metadata.items():\n",
    "    print(f\"{key} : {item}\\n\") "
   ]
  },
  {
   "cell_type": "code",
   "execution_count": 5,
   "id": "bf2392ad",
   "metadata": {},
   "outputs": [
    {
     "ename": "TypeError",
     "evalue": "'NoneType' object is not subscriptable",
     "output_type": "error",
     "traceback": [
      "\u001b[0;31m---------------------------------------------------------------------------\u001b[0m",
      "\u001b[0;31mTypeError\u001b[0m                                 Traceback (most recent call last)",
      "Cell \u001b[0;32mIn [5], line 5\u001b[0m\n\u001b[1;32m      2\u001b[0m piezoimg \u001b[38;5;241m=\u001b[39m NANOSC_PFC_FILE\u001b[38;5;241m.\u001b[39mgetpiezoimg()\n\u001b[1;32m      4\u001b[0m plt\u001b[38;5;241m.\u001b[39mfigure(figsize\u001b[38;5;241m=\u001b[39m(\u001b[38;5;241m10\u001b[39m,\u001b[38;5;241m10\u001b[39m))\n\u001b[0;32m----> 5\u001b[0m plt\u001b[38;5;241m.\u001b[39mimshow(\u001b[43mpiezoimg\u001b[49m\u001b[43m[\u001b[49m\u001b[43m:\u001b[49m\u001b[43m,\u001b[49m\u001b[43m \u001b[49m\u001b[43m:\u001b[49m\u001b[43m,\u001b[49m\u001b[43m \u001b[49m\u001b[38;5;241;43m0\u001b[39;49m\u001b[43m]\u001b[49m, cmap\u001b[38;5;241m=\u001b[39m\u001b[38;5;124m'\u001b[39m\u001b[38;5;124mafmhot\u001b[39m\u001b[38;5;124m'\u001b[39m, origin\u001b[38;5;241m=\u001b[39m\u001b[38;5;124m'\u001b[39m\u001b[38;5;124mlower\u001b[39m\u001b[38;5;124m'\u001b[39m)\n\u001b[1;32m      6\u001b[0m plt\u001b[38;5;241m.\u001b[39mshow()\n",
      "\u001b[0;31mTypeError\u001b[0m: 'NoneType' object is not subscriptable"
     ]
    },
    {
     "data": {
      "text/plain": [
       "<Figure size 1000x1000 with 0 Axes>"
      ]
     },
     "metadata": {},
     "output_type": "display_data"
    }
   ],
   "source": [
    "# 4. Get force volume piezo image and plot it\n",
    "piezoimg = NANOSC_PFC_FILE.getpiezoimg()\n",
    "\n",
    "plt.figure(figsize=(10,10))\n",
    "plt.imshow(piezoimg[:, :, 0], cmap='afmhot', origin='lower')\n",
    "plt.show()"
   ]
  },
  {
   "cell_type": "code",
   "execution_count": 6,
   "id": "b051e8ce",
   "metadata": {},
   "outputs": [
    {
     "ename": "UnboundLocalError",
     "evalue": "local variable 'FC' referenced before assignment",
     "output_type": "error",
     "traceback": [
      "\u001b[0;31m---------------------------------------------------------------------------\u001b[0m",
      "\u001b[0;31mUnboundLocalError\u001b[0m                         Traceback (most recent call last)",
      "Cell \u001b[0;32mIn [6], line 2\u001b[0m\n\u001b[1;32m      1\u001b[0m \u001b[38;5;66;03m# 5. Get force curve at index 0\u001b[39;00m\n\u001b[0;32m----> 2\u001b[0m FC \u001b[38;5;241m=\u001b[39m \u001b[43mNANOSC_PFC_FILE\u001b[49m\u001b[38;5;241;43m.\u001b[39;49m\u001b[43mgetcurve\u001b[49m\u001b[43m(\u001b[49m\u001b[38;5;241;43m0\u001b[39;49m\u001b[43m)\u001b[49m\n\u001b[1;32m      4\u001b[0m \u001b[38;5;28mtype\u001b[39m(FC)\n",
      "File \u001b[0;32m/Library/Frameworks/Python.framework/Versions/3.10/lib/python3.10/site-packages/pyafmreader/uff.py:94\u001b[0m, in \u001b[0;36mUFF.getcurve\u001b[0;34m(self, curveidx)\u001b[0m\n\u001b[1;32m     92\u001b[0m \u001b[38;5;28;01melif\u001b[39;00m file_type \u001b[38;5;129;01min\u001b[39;00m ufffiles:\n\u001b[1;32m     93\u001b[0m     FC \u001b[38;5;241m=\u001b[39m \u001b[38;5;28mself\u001b[39m\u001b[38;5;241m.\u001b[39m_loadcurve(\u001b[38;5;28;01mNone\u001b[39;00m, \u001b[38;5;28;01mNone\u001b[39;00m, file_type)\n\u001b[0;32m---> 94\u001b[0m \u001b[38;5;28;01mreturn\u001b[39;00m \u001b[43mFC\u001b[49m\n",
      "\u001b[0;31mUnboundLocalError\u001b[0m: local variable 'FC' referenced before assignment"
     ]
    }
   ],
   "source": [
    "# 5. Get force curve at index 0\n",
    "FC = NANOSC_PFC_FILE.getcurve(0)\n",
    "\n",
    "type(FC)"
   ]
  },
  {
   "cell_type": "code",
   "execution_count": null,
   "id": "79b6979c",
   "metadata": {},
   "outputs": [],
   "source": [
    "help(FC.preprocess_force_curve)"
   ]
  },
  {
   "cell_type": "code",
   "execution_count": null,
   "id": "1e96be43",
   "metadata": {},
   "outputs": [],
   "source": [
    "# 6. Preprocess curve with the deflection sens in the header\n",
    "defl_sens = metadata['defl_sens_nmbyV'] / 1e09 # nm/V --> m/V\n",
    "FC.preprocess_force_curve(defl_sens, metadata['height_channel_key'])\n",
    "plt.figure(figsize=(10,5))\n",
    "for segid, segment in FC.get_segments():\n",
    "    plt.plot(segment.zheight, segment.vdeflection, label=f'Segment: {segid}')\n",
    "plt.xlabel('zheight [m]')\n",
    "plt.ylabel('vdeflection [m]')\n",
    "plt.legend()\n",
    "plt.show()"
   ]
  },
  {
   "cell_type": "code",
   "execution_count": null,
   "id": "493f377c",
   "metadata": {},
   "outputs": [],
   "source": [
    "# 7. Get Force vs Indentation curve\n",
    "poc = [0.5 * 1e-8, 0.0] # in nm\n",
    "spring_k = metadata['spring_const_Nbym']\n",
    "FC.get_force_vs_indentation(poc, spring_k)\n",
    "plt.figure(figsize=(10,5))\n",
    "for segid, segment in FC.get_segments():\n",
    "    plt.plot(segment.indentation, segment.force, label=f'Segment: {segid}')\n",
    "plt.axhline(y=0, color='k', linestyle='--')\n",
    "plt.axvline(x=0, color='k', linestyle='--')\n",
    "plt.xlabel('Indentation [m]')\n",
    "plt.ylabel('Force [N]')\n",
    "plt.legend()\n",
    "plt.show()"
   ]
  },
  {
   "cell_type": "code",
   "execution_count": null,
   "id": "c43e6c46",
   "metadata": {},
   "outputs": [],
   "source": [
    "# 8. Get segment 0\n",
    "FC_segments = FC.get_segments()\n",
    "_, segment_0 = FC_segments[0]\n",
    "type(segment_0)"
   ]
  },
  {
   "cell_type": "code",
   "execution_count": null,
   "id": "5e278f95",
   "metadata": {},
   "outputs": [],
   "source": [
    "# 9. Plot only segment 0\n",
    "plt.figure(figsize=(10,5))\n",
    "plt.plot(segment_0.zheight, segment_0.vdeflection, label=f'Segment: 0')\n",
    "plt.xlabel('zheight [nm]')\n",
    "plt.ylabel('vdeflection [nm]')\n",
    "plt.legend()\n",
    "plt.show()"
   ]
  },
  {
   "cell_type": "code",
   "execution_count": null,
   "id": "68d88022",
   "metadata": {},
   "outputs": [],
   "source": [
    "# 9. Get force vs indentation for segment 0\n",
    "plt.figure(figsize=(10,5))\n",
    "plt.plot(segment_0.indentation, segment_0.force, label=f'Segment: 0')\n",
    "plt.xlabel('zheight [nm]')\n",
    "plt.ylabel('vdeflection [nm]')\n",
    "plt.legend()\n",
    "plt.show()"
   ]
  },
  {
   "cell_type": "code",
   "execution_count": null,
   "id": "d11597bf",
   "metadata": {},
   "outputs": [],
   "source": []
  }
 ],
 "metadata": {
  "kernelspec": {
   "display_name": "Python 3 (ipykernel)",
   "language": "python",
   "name": "python3"
  },
  "language_info": {
   "codemirror_mode": {
    "name": "ipython",
    "version": 3
   },
   "file_extension": ".py",
   "mimetype": "text/x-python",
   "name": "python",
   "nbconvert_exporter": "python",
   "pygments_lexer": "ipython3",
   "version": "3.10.6"
  }
 },
 "nbformat": 4,
 "nbformat_minor": 5
}
