{
 "cells": [
  {
   "cell_type": "code",
   "execution_count": 1,
   "id": "ea106796",
   "metadata": {},
   "outputs": [
    {
     "name": "stdout",
     "output_type": "stream",
     "text": [
      "Found existing installation: pyafmreader x.x.x\n",
      "Uninstalling pyafmreader-x.x.x:\n",
      "  Successfully uninstalled pyafmreader-x.x.x\n",
      "Note: you may need to restart the kernel to use updated packages.\n",
      "Collecting git+https://github.com/jlopezalo/pyafmreader.git\n",
      "  Cloning https://github.com/jlopezalo/pyafmreader.git to /private/var/folders/4k/ps22fmxj3gx6vls78t2p63wh0000gn/T/pip-req-build-ta973ydj\n",
      "  Running command git clone --filter=blob:none --quiet https://github.com/jlopezalo/pyafmreader.git /private/var/folders/4k/ps22fmxj3gx6vls78t2p63wh0000gn/T/pip-req-build-ta973ydj\n",
      "  Resolved https://github.com/jlopezalo/pyafmreader.git to commit a5f6da84e0a7825b980baa9d78624d341b8c2fc6\n",
      "  Preparing metadata (setup.py) ... \u001b[?25ldone\n",
      "\u001b[?25hCollecting fasterzip@ git+https://github.com/TkTech/fasterzip.git\n",
      "  Cloning https://github.com/TkTech/fasterzip.git to /private/var/folders/4k/ps22fmxj3gx6vls78t2p63wh0000gn/T/pip-install-t4itruep/fasterzip_023af947f72b49a99b65756c4f52c0bd\n",
      "  Running command git clone --filter=blob:none --quiet https://github.com/TkTech/fasterzip.git /private/var/folders/4k/ps22fmxj3gx6vls78t2p63wh0000gn/T/pip-install-t4itruep/fasterzip_023af947f72b49a99b65756c4f52c0bd\n",
      "  Resolved https://github.com/TkTech/fasterzip.git to commit 09e2cae7821f96f4ba8f6d4122e1045352a656b4\n",
      "  Preparing metadata (setup.py) ... \u001b[?25ldone\n",
      "\u001b[?25hRequirement already satisfied: Cython>=0.29.28 in /Library/Frameworks/Python.framework/Versions/3.7/lib/python3.7/site-packages (from pyafmreader===x.x.x) (0.29.32)\n",
      "Requirement already satisfied: numpy in /Library/Frameworks/Python.framework/Versions/3.7/lib/python3.7/site-packages (from pyafmreader===x.x.x) (1.21.6)\n",
      "Building wheels for collected packages: pyafmreader\n",
      "  Building wheel for pyafmreader (setup.py) ... \u001b[?25ldone\n",
      "\u001b[?25h  Created wheel for pyafmreader: filename=pyafmreader-x.x.x-py3-none-any.whl size=26302 sha256=2aed855e3c06493f92804ed845fa92b58735ad6f805e68d4642f471271869280\n",
      "  Stored in directory: /private/var/folders/4k/ps22fmxj3gx6vls78t2p63wh0000gn/T/pip-ephem-wheel-cache-imtyffgy/wheels/72/d2/90/28c19c43a1469f295589665c30a6b7af31bd91116cde73356f\n",
      "\u001b[33m  WARNING: Built wheel for pyafmreader is invalid: Metadata 1.2 mandates PEP 440 version, but 'x.x.x' is not\u001b[0m\u001b[33m\n",
      "\u001b[0mFailed to build pyafmreader\n",
      "Installing collected packages: pyafmreader\n",
      "  Running setup.py install for pyafmreader ... \u001b[?25ldone\n",
      "\u001b[33m  DEPRECATION: pyafmreader was installed using the legacy 'setup.py install' method, because a wheel could not be built for it. A possible replacement is to fix the wheel build issue reported above. Discussion can be found at https://github.com/pypa/pip/issues/8368\u001b[0m\u001b[33m\n",
      "\u001b[0m\u001b[?25hSuccessfully installed pyafmreader-x.x.x\n",
      "Note: you may need to restart the kernel to use updated packages.\n"
     ]
    }
   ],
   "source": [
    "# Setup:\n",
    "# 1. Uninstall previous version if already installed\n",
    "%pip uninstall pyafmreader -y\n",
    "# 2. Install pyafmreader from github \n",
    "# (temporary, when 1.0 releases it will be available via pip)\n",
    "%pip install git+https://github.com/jlopezalo/pyafmreader.git"
   ]
  },
  {
   "cell_type": "code",
   "execution_count": 2,
   "id": "62364e0c",
   "metadata": {},
   "outputs": [
    {
     "name": "stdout",
     "output_type": "stream",
     "text": [
      "Help on function loadfile in module pyafmreader.pyafmreader:\n",
      "\n",
      "loadfile(filepath)\n",
      "    Load AFM file. \n",
      "    \n",
      "    Supported formats:\n",
      "        - JPK --> .jpk-force, .jpk-force-map, .jpk-qi-data\n",
      "        - JPK Thermal --> .tnd\n",
      "        - NANOSCOPE --> .spm, .pfc\n",
      "        - UFF --> .uff\n",
      "    \n",
      "            Parameters:\n",
      "                    filepath (str): Path to the file.\n",
      "            \n",
      "            Returns:\n",
      "                    If JPK, NANOSCOPE OR UFF:\n",
      "                        UFF (uff.UFF): Universal File Format object containing loaded data.\n",
      "                    If JPK Thermal:\n",
      "                        Amplitude (m^2/V) (np.array),\n",
      "                        Frequencies (Hz) (np.array),\n",
      "                        Fit-Data (m^2/V) (np.array),\n",
      "                        Parameters (dict)\n",
      "\n"
     ]
    }
   ],
   "source": [
    "# 1. Import pyafmreader loadfile and matplotlib\n",
    "from pyafmreader import loadfile\n",
    "import matplotlib.pyplot as plt\n",
    "\n",
    "# Get documentation about loadfile function\n",
    "help(loadfile)"
   ]
  },
  {
   "cell_type": "code",
   "execution_count": 3,
   "id": "76305922",
   "metadata": {},
   "outputs": [
    {
     "data": {
      "text/plain": [
       "pyafmreader.uff.UFF"
      ]
     },
     "execution_count": 3,
     "metadata": {},
     "output_type": "execute_result"
    }
   ],
   "source": [
    "# 2. Load one of the test files\n",
    "# NANOSC_PFC_PATH = '../tests/testfiles/08171528.0_00001.pfc'\n",
    "NANOSC_PFC_PATH = '/Users/javierlopez/Desktop/CellHesion_data_set/force-save-2022.08.02-16.02.01.977.jpk-force'\n",
    "\n",
    "NANOSC_PFC_FILE = loadfile(NANOSC_PFC_PATH)\n",
    "\n",
    "type(NANOSC_PFC_FILE)"
   ]
  },
  {
   "cell_type": "code",
   "execution_count": 4,
   "id": "dcd6a2d2",
   "metadata": {},
   "outputs": [
    {
     "name": "stdout",
     "output_type": "stream",
     "text": [
      "file_path : /Users/javierlopez/Desktop/CellHesion_data_set/force-save-2022.08.02-16.02.01.977.jpk-force\n",
      "\n",
      "Entry_filename : force-save-2022.08.02-16.02.01.977.jpk-force\n",
      "\n",
      "file_size_bytes : 17129\n",
      "\n",
      "file_type : .jpk-force\n",
      "\n",
      "UFF_code : _1_2_3_4_5\n",
      "\n",
      "Entry_UFF_version : 0\n",
      "\n",
      "file_id : 16.02.01.977\n",
      "\n",
      "force_volume : 0\n",
      "\n",
      "Experimental_instrument : JPK01385-CellHesion-200\n",
      "\n",
      "JPK_file_format_version : 2.0\n",
      "\n",
      "JPK_software_version : 5.0.138\n",
      "\n",
      "retracted_delay : 0.0\n",
      "\n",
      "extended_delay : 0.0\n",
      "\n",
      "Entry_date : None\n",
      "\n",
      "scan_angle : 0.0\n",
      "\n",
      "num_x_pixels : 1\n",
      "\n",
      "num_y_pixels : 1\n",
      "\n",
      "scan_size_x : 0.0\n",
      "\n",
      "scan_size_y : 0.0\n",
      "\n",
      "z_closed_loop : false\n",
      "\n",
      "Recording_Z_close_loop_on : Off\n",
      "\n",
      "Entry_tot_nb_curve : 1\n",
      "\n",
      "extend_pause_duration : 0.0\n",
      "\n",
      "relative_z_start : 0.0\n",
      "\n",
      "relative_z_end : 0.0\n",
      "\n",
      "relative_ramp_size : 0.0\n",
      "\n",
      "force_setpoint : 7.5945945178241026\n",
      "\n",
      "nbr_channels : 6\n",
      "\n",
      "defl_sens_nmbyV : 29.718593330029282\n",
      "\n",
      "spring_const_Nbym : 0.10633553027241671\n",
      "\n",
      "channel_properties : {'cellhesion-height': {'channel_id': 0, 'encoder_type': 'signedshort', 'encoder_offet_key': 50.00000001164153, 'encoder_multiplier_key': 0.0015258789066052714, 'base': 'volts', 'base_defined': False, 'absolute_defined': False, 'capSensHeight_abs_offset': 0.0, 'capSensHeight_abs_mult': 1000000000.0, 'nominal_defined': True, 'capSensHeight_nom_offset': 0.0001, 'capSensHeight_nom_mult': -1e-06}, 'height': {'channel_id': 1, 'encoder_type': 'signedshort', 'encoder_offet_key': 50.00000001164153, 'encoder_multiplier_key': 0.0015258789066052714, 'base': 'volts', 'base_defined': False, 'absolute_defined': False, 'capSensHeight_abs_offset': 0.0, 'capSensHeight_abs_mult': 1000000000.0, 'nominal_defined': True, 'capSensHeight_nom_offset': 0.0001, 'capSensHeight_nom_mult': -1e-06}, 'vDeflection': {'channel_id': 2, 'encoder_type': 'signedshort', 'encoder_offet_key': -0.052973149550338744, 'encoder_multiplier_key': 0.0003138589191115104, 'base': 'volts', 'base_defined': False, 'distance_defined': True, 'deflection_distance_offset': 0.0, 'deflection_distance_multiplier': 29.718593330029282, 'force_defined': True, 'deflection_force_offset': 0.0, 'deflection_force_multiplier': 0.10633553027241671}, 'hDeflection': {'channel_id': 3, 'encoder_type': 'signedshort', 'encoder_offet_key': -0.05700530078888903, 'encoder_multiplier_key': 0.00031166169840568606, 'base': 'volts', 'base_defined': False, 'distance_defined': False, 'deflection_distance_offset': 0.0, 'deflection_distance_multiplier': 0.0, 'force_defined': False, 'deflection_force_offset': 0.0, 'deflection_force_multiplier': 1.0}, 'strainGaugeHeight': {'channel_id': 4, 'encoder_type': 'signedshort', 'encoder_offet_key': -0.031114363857579805, 'encoder_multiplier_key': 0.0003084190165317999, 'base': 'volts', 'base_defined': False, 'absolute_defined': True, 'capSensHeight_abs_offset': -2.5e-05, 'capSensHeight_abs_mult': -1e-05, 'nominal_defined': True, 'capSensHeight_nom_offset': 0.0001, 'capSensHeight_nom_mult': 1.0}, 'measuredHeight': {'channel_id': 5, 'encoder_type': 'signedshort', 'encoder_offet_key': -0.031114363857579805, 'encoder_multiplier_key': 0.0003084190165317999, 'base': 'volts', 'base_defined': False, 'absolute_defined': True, 'capSensHeight_abs_offset': -2.5e-05, 'capSensHeight_abs_mult': -1e-05, 'nominal_defined': True, 'capSensHeight_nom_offset': 0.0001, 'capSensHeight_nom_mult': 1.0}}\n",
      "\n",
      "Recording_number_segment : 2\n",
      "\n",
      "curve_properties : {'0': {'0': {'time_stamp': '2022-08-02 16\\\\:02\\\\:01.977 +0100', 'num_points': 512, 'duration': 1.0, 'channels': ['cellhesion-height', 'height', 'vDeflection', 'hDeflection', 'strainGaugeHeight', 'measuredHeight'], 'baseline_measured': True, 'baseline': -0.6243941101957351, 'approach_id': '2022.08.02-09.12.11-00334', 'style': 'extend', 'setpoint': 7.5945945178241026, 'z_start': 5000.0, 'z_end': 0.0, 'ramp_size': -5000.0, 'ramp_speed': -5000.0}, '1': {'time_stamp': '2022-08-02 16\\\\:02\\\\:02.975 +0100', 'num_points': 512, 'duration': 1.0, 'channels': ['cellhesion-height', 'height', 'vDeflection', 'hDeflection', 'strainGaugeHeight', 'measuredHeight'], 'baseline_measured': True, 'baseline': -0.6243941101957351, 'approach_id': '2022.08.02-09.12.11-00334', 'style': 'retract', 'z_start': 5000.0, 'z_end': 0.0, 'ramp_size': -5000.0, 'ramp_speed': -5000.0}}}\n",
      "\n",
      "found_vDeflection : True\n",
      "\n",
      "height_channel_key : measuredHeight\n",
      "\n"
     ]
    }
   ],
   "source": [
    "# 3. Get file metadata\n",
    "metadata = NANOSC_PFC_FILE.filemetadata\n",
    "\n",
    "for key, item in metadata.items():\n",
    "    print(f\"{key} : {item}\\n\") "
   ]
  },
  {
   "cell_type": "code",
   "execution_count": 7,
   "id": "bf2392ad",
   "metadata": {},
   "outputs": [],
   "source": [
    "# 4. Get force volume piezo image and plot it\n",
    "# piezoimg = NANOSC_PFC_FILE.getpiezoimg()\n",
    "\n",
    "# plt.figure(figsize=(10,10))\n",
    "# plt.imshow(piezoimg[:, :, 0], cmap='afmhot', origin='lower')\n",
    "# plt.show()"
   ]
  },
  {
   "cell_type": "code",
   "execution_count": null,
   "id": "2250c14a",
   "metadata": {},
   "outputs": [],
   "source": [
    "height_channel_key = file_metadata['height_channel_key']\n",
    "print()"
   ]
  },
  {
   "cell_type": "code",
   "execution_count": 6,
   "id": "b051e8ce",
   "metadata": {},
   "outputs": [
    {
     "ename": "KeyError",
     "evalue": "'absolute_defined'",
     "output_type": "error",
     "traceback": [
      "\u001b[0;31m---------------------------------------------------------------------------\u001b[0m",
      "\u001b[0;31mKeyError\u001b[0m                                  Traceback (most recent call last)",
      "\u001b[0;32m/var/folders/4k/ps22fmxj3gx6vls78t2p63wh0000gn/T/ipykernel_388/467942449.py\u001b[0m in \u001b[0;36m<module>\u001b[0;34m\u001b[0m\n\u001b[1;32m      1\u001b[0m \u001b[0;31m# 5. Get force curve at index 0\u001b[0m\u001b[0;34m\u001b[0m\u001b[0;34m\u001b[0m\u001b[0;34m\u001b[0m\u001b[0m\n\u001b[0;32m----> 2\u001b[0;31m \u001b[0mFC\u001b[0m \u001b[0;34m=\u001b[0m \u001b[0mNANOSC_PFC_FILE\u001b[0m\u001b[0;34m.\u001b[0m\u001b[0mgetcurve\u001b[0m\u001b[0;34m(\u001b[0m\u001b[0;36m0\u001b[0m\u001b[0;34m)\u001b[0m\u001b[0;34m\u001b[0m\u001b[0;34m\u001b[0m\u001b[0m\n\u001b[0m\u001b[1;32m      3\u001b[0m \u001b[0;34m\u001b[0m\u001b[0m\n\u001b[1;32m      4\u001b[0m \u001b[0mtype\u001b[0m\u001b[0;34m(\u001b[0m\u001b[0mFC\u001b[0m\u001b[0;34m)\u001b[0m\u001b[0;34m\u001b[0m\u001b[0;34m\u001b[0m\u001b[0m\n",
      "\u001b[0;32m/Library/Frameworks/Python.framework/Versions/3.7/lib/python3.7/site-packages/pyafmreader/uff.py\u001b[0m in \u001b[0;36mgetcurve\u001b[0;34m(self, curveidx)\u001b[0m\n\u001b[1;32m     87\u001b[0m             \u001b[0;32mwith\u001b[0m \u001b[0mopen\u001b[0m\u001b[0;34m(\u001b[0m\u001b[0mself\u001b[0m\u001b[0;34m.\u001b[0m\u001b[0mfilemetadata\u001b[0m\u001b[0;34m[\u001b[0m\u001b[0;34m'file_path'\u001b[0m\u001b[0;34m]\u001b[0m\u001b[0;34m,\u001b[0m \u001b[0;34m'rb'\u001b[0m\u001b[0;34m)\u001b[0m \u001b[0;32mas\u001b[0m \u001b[0mfile\u001b[0m\u001b[0;34m:\u001b[0m\u001b[0;34m\u001b[0m\u001b[0;34m\u001b[0m\u001b[0m\n\u001b[1;32m     88\u001b[0m                 \u001b[0mafmfile\u001b[0m \u001b[0;34m=\u001b[0m \u001b[0mZipFile\u001b[0m\u001b[0;34m(\u001b[0m\u001b[0mfile\u001b[0m\u001b[0;34m)\u001b[0m\u001b[0;34m\u001b[0m\u001b[0;34m\u001b[0m\u001b[0m\n\u001b[0;32m---> 89\u001b[0;31m                 \u001b[0mFC\u001b[0m \u001b[0;34m=\u001b[0m \u001b[0mself\u001b[0m\u001b[0;34m.\u001b[0m\u001b[0m_loadcurve\u001b[0m\u001b[0;34m(\u001b[0m\u001b[0mcurveidx\u001b[0m\u001b[0;34m,\u001b[0m \u001b[0mafmfile\u001b[0m\u001b[0;34m,\u001b[0m \u001b[0mfile_type\u001b[0m\u001b[0;34m)\u001b[0m\u001b[0;34m\u001b[0m\u001b[0;34m\u001b[0m\u001b[0m\n\u001b[0m\u001b[1;32m     90\u001b[0m         \u001b[0;32melif\u001b[0m \u001b[0mfile_type\u001b[0m \u001b[0;32min\u001b[0m \u001b[0mnanoscfiles\u001b[0m\u001b[0;34m:\u001b[0m\u001b[0;34m\u001b[0m\u001b[0;34m\u001b[0m\u001b[0m\n\u001b[1;32m     91\u001b[0m             \u001b[0mFC\u001b[0m \u001b[0;34m=\u001b[0m \u001b[0mself\u001b[0m\u001b[0;34m.\u001b[0m\u001b[0m_loadcurve\u001b[0m\u001b[0;34m(\u001b[0m\u001b[0mcurveidx\u001b[0m\u001b[0;34m,\u001b[0m \u001b[0;32mNone\u001b[0m\u001b[0;34m,\u001b[0m \u001b[0mfile_type\u001b[0m\u001b[0;34m)\u001b[0m\u001b[0;34m\u001b[0m\u001b[0;34m\u001b[0m\u001b[0m\n",
      "\u001b[0;32m/Library/Frameworks/Python.framework/Versions/3.7/lib/python3.7/site-packages/pyafmreader/uff.py\u001b[0m in \u001b[0;36m_loadcurve\u001b[0;34m(self, curveidx, afmfile, file_type)\u001b[0m\n\u001b[1;32m     60\u001b[0m             \u001b[0mcurvepaths\u001b[0m \u001b[0;34m=\u001b[0m \u001b[0mself\u001b[0m\u001b[0;34m.\u001b[0m\u001b[0m_groupedpaths\u001b[0m\u001b[0;34m[\u001b[0m\u001b[0mcurveidx\u001b[0m\u001b[0;34m]\u001b[0m\u001b[0;34m\u001b[0m\u001b[0;34m\u001b[0m\u001b[0m\n\u001b[1;32m     61\u001b[0m             FC = loadJPKcurve(\n\u001b[0;32m---> 62\u001b[0;31m                 \u001b[0mcurvepaths\u001b[0m\u001b[0;34m,\u001b[0m \u001b[0mafmfile\u001b[0m\u001b[0;34m,\u001b[0m \u001b[0mcurveidx\u001b[0m\u001b[0;34m,\u001b[0m \u001b[0mself\u001b[0m\u001b[0;34m.\u001b[0m\u001b[0mfilemetadata\u001b[0m\u001b[0;34m\u001b[0m\u001b[0;34m\u001b[0m\u001b[0m\n\u001b[0m\u001b[1;32m     63\u001b[0m             )\n\u001b[1;32m     64\u001b[0m         \u001b[0;32melif\u001b[0m \u001b[0mfile_type\u001b[0m \u001b[0;32min\u001b[0m \u001b[0mnanoscfiles\u001b[0m\u001b[0;34m:\u001b[0m\u001b[0;34m\u001b[0m\u001b[0;34m\u001b[0m\u001b[0m\n",
      "\u001b[0;32m/Library/Frameworks/Python.framework/Versions/3.7/lib/python3.7/site-packages/pyafmreader/jpk/loadjpkcurve.py\u001b[0m in \u001b[0;36mloadJPKcurve\u001b[0;34m(paths, afm_file, curve_index, file_metadata)\u001b[0m\n\u001b[1;32m     64\u001b[0m             \u001b[0mvalues\u001b[0m \u001b[0;34m=\u001b[0m \u001b[0mraw_data\u001b[0m \u001b[0;34m*\u001b[0m \u001b[0mconversion_factors\u001b[0m\u001b[0;34m[\u001b[0m\u001b[0;34m\"encoder_multiplier_key\"\u001b[0m\u001b[0;34m]\u001b[0m \u001b[0;34m+\u001b[0m \u001b[0mconversion_factors\u001b[0m\u001b[0;34m[\u001b[0m\u001b[0;34m\"encoder_offet_key\"\u001b[0m\u001b[0;34m]\u001b[0m\u001b[0;34m\u001b[0m\u001b[0;34m\u001b[0m\u001b[0m\n\u001b[1;32m     65\u001b[0m \u001b[0;34m\u001b[0m\u001b[0m\n\u001b[0;32m---> 66\u001b[0;31m             \u001b[0;32mif\u001b[0m \u001b[0mconversion_factors\u001b[0m\u001b[0;34m[\u001b[0m\u001b[0;34m\"absolute_defined\"\u001b[0m\u001b[0;34m]\u001b[0m\u001b[0;34m:\u001b[0m\u001b[0;34m\u001b[0m\u001b[0;34m\u001b[0m\u001b[0m\n\u001b[0m\u001b[1;32m     67\u001b[0m                 \u001b[0mvalues\u001b[0m \u001b[0;34m=\u001b[0m \u001b[0mvalues\u001b[0m \u001b[0;34m*\u001b[0m \u001b[0mconversion_factors\u001b[0m\u001b[0;34m[\u001b[0m\u001b[0;34m\"capSensHeight_abs_mult\"\u001b[0m\u001b[0;34m]\u001b[0m \u001b[0;34m+\u001b[0m  \u001b[0mconversion_factors\u001b[0m\u001b[0;34m[\u001b[0m\u001b[0;34m\"capSensHeight_abs_offset\"\u001b[0m\u001b[0;34m]\u001b[0m\u001b[0;34m\u001b[0m\u001b[0;34m\u001b[0m\u001b[0m\n\u001b[1;32m     68\u001b[0m \u001b[0;34m\u001b[0m\u001b[0m\n",
      "\u001b[0;31mKeyError\u001b[0m: 'absolute_defined'"
     ]
    }
   ],
   "source": [
    "# 5. Get force curve at index 0\n",
    "FC = NANOSC_PFC_FILE.getcurve(0)\n",
    "\n",
    "type(FC)"
   ]
  },
  {
   "cell_type": "code",
   "execution_count": null,
   "id": "79b6979c",
   "metadata": {},
   "outputs": [],
   "source": [
    "help(FC.preprocess_force_curve)"
   ]
  },
  {
   "cell_type": "code",
   "execution_count": null,
   "id": "1e96be43",
   "metadata": {},
   "outputs": [],
   "source": [
    "# 6. Preprocess curve with the deflection sens in the header\n",
    "defl_sens = metadata['defl_sens_nmbyV'] / 1e09 # nm/V --> m/V\n",
    "FC.preprocess_force_curve(defl_sens, metadata['height_channel_key'])\n",
    "plt.figure(figsize=(10,5))\n",
    "for segid, segment in FC.get_segments():\n",
    "    plt.plot(segment.zheight, segment.vdeflection, label=f'Segment: {segid}')\n",
    "plt.xlabel('zheight [m]')\n",
    "plt.ylabel('vdeflection [m]')\n",
    "plt.legend()\n",
    "plt.show()"
   ]
  },
  {
   "cell_type": "code",
   "execution_count": null,
   "id": "493f377c",
   "metadata": {},
   "outputs": [],
   "source": [
    "# 7. Get Force vs Indentation curve\n",
    "poc = [0.5 * 1e-8, 0.0] # in nm\n",
    "spring_k = metadata['spring_const_Nbym']\n",
    "FC.get_force_vs_indentation(poc, spring_k)\n",
    "plt.figure(figsize=(10,5))\n",
    "for segid, segment in FC.get_segments():\n",
    "    plt.plot(segment.indentation, segment.force, label=f'Segment: {segid}')\n",
    "plt.axhline(y=0, color='k', linestyle='--')\n",
    "plt.axvline(x=0, color='k', linestyle='--')\n",
    "plt.xlabel('Indentation [m]')\n",
    "plt.ylabel('Force [N]')\n",
    "plt.legend()\n",
    "plt.show()"
   ]
  },
  {
   "cell_type": "code",
   "execution_count": null,
   "id": "c43e6c46",
   "metadata": {},
   "outputs": [],
   "source": [
    "# 8. Get segment 0\n",
    "FC_segments = FC.get_segments()\n",
    "_, segment_0 = FC_segments[0]\n",
    "type(segment_0)"
   ]
  },
  {
   "cell_type": "code",
   "execution_count": null,
   "id": "5e278f95",
   "metadata": {},
   "outputs": [],
   "source": [
    "# 9. Plot only segment 0\n",
    "plt.figure(figsize=(10,5))\n",
    "plt.plot(segment_0.zheight, segment_0.vdeflection, label=f'Segment: 0')\n",
    "plt.xlabel('zheight [nm]')\n",
    "plt.ylabel('vdeflection [nm]')\n",
    "plt.legend()\n",
    "plt.show()"
   ]
  },
  {
   "cell_type": "code",
   "execution_count": null,
   "id": "68d88022",
   "metadata": {},
   "outputs": [],
   "source": [
    "# 9. Get force vs indentation for segment 0\n",
    "plt.figure(figsize=(10,5))\n",
    "plt.plot(segment_0.indentation, segment_0.force, label=f'Segment: 0')\n",
    "plt.xlabel('zheight [nm]')\n",
    "plt.ylabel('vdeflection [nm]')\n",
    "plt.legend()\n",
    "plt.show()"
   ]
  },
  {
   "cell_type": "code",
   "execution_count": null,
   "id": "d11597bf",
   "metadata": {},
   "outputs": [],
   "source": []
  }
 ],
 "metadata": {
  "kernelspec": {
   "display_name": "Python 3 (ipykernel)",
   "language": "python",
   "name": "python3"
  },
  "language_info": {
   "codemirror_mode": {
    "name": "ipython",
    "version": 3
   },
   "file_extension": ".py",
   "mimetype": "text/x-python",
   "name": "python",
   "nbconvert_exporter": "python",
   "pygments_lexer": "ipython3",
   "version": "3.7.6"
  }
 },
 "nbformat": 4,
 "nbformat_minor": 5
}
