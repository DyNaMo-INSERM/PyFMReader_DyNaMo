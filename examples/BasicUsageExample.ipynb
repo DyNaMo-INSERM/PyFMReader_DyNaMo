{
 "cells": [
  {
   "cell_type": "code",
   "execution_count": null,
   "id": "ea106796",
   "metadata": {},
   "outputs": [
    {
     "name": "stdout",
     "output_type": "stream",
     "text": [
      "Found existing installation: pyafmreader x.x.x\n",
      "Uninstalling pyafmreader-x.x.x:\n",
      "  Successfully uninstalled pyafmreader-x.x.x\n",
      "Note: you may need to restart the kernel to use updated packages.\n",
      "Collecting git+https://github.com/jlopezalo/pyafmreader.git\n",
      "  Cloning https://github.com/jlopezalo/pyafmreader.git to /private/var/folders/4k/ps22fmxj3gx6vls78t2p63wh0000gn/T/pip-req-build-db5o3e3y\n",
      "  Running command git clone --filter=blob:none --quiet https://github.com/jlopezalo/pyafmreader.git /private/var/folders/4k/ps22fmxj3gx6vls78t2p63wh0000gn/T/pip-req-build-db5o3e3y\n"
     ]
    }
   ],
   "source": [
    "# Setup:\n",
    "# 1. Uninstall previous version if already installed\n",
    "%pip uninstall pyafmreader -y\n",
    "# 2. Install pyafmreader from github \n",
    "# (temporary, when 1.0 releases it will be available via pip)\n",
    "%pip install git+https://github.com/jlopezalo/pyafmreader.git"
   ]
  },
  {
   "cell_type": "code",
   "execution_count": null,
   "id": "62364e0c",
   "metadata": {},
   "outputs": [],
   "source": [
    "# 1. Import pyafmreader loadfile and matplotlib\n",
    "from pyafmreader import loadfile\n",
    "import matplotlib.pyplot as plt\n",
    "import os\n",
    "\n",
    "# Get documentation about loadfile function\n",
    "help(loadfile)"
   ]
  },
  {
   "cell_type": "code",
   "execution_count": null,
   "id": "76305922",
   "metadata": {},
   "outputs": [],
   "source": [
    "# 2. Load one of the test files\n",
    "# NANOSC_PFC_PATH = '../tests/testfiles/08171528.0_00001.pfc'\n",
    "\n",
    "NANOSC_PFC_PATH = '../tests/testfiles/calibration3.000'\n",
    "\n",
    "NANOSC_PFC_FILE = loadfile(NANOSC_PFC_PATH)\n",
    "\n",
    "type(NANOSC_PFC_FILE)"
   ]
  },
  {
   "cell_type": "code",
   "execution_count": null,
   "id": "dcd6a2d2",
   "metadata": {},
   "outputs": [],
   "source": [
    "# 3. Get file metadata\n",
    "metadata = NANOSC_PFC_FILE.filemetadata\n",
    "\n",
    "for key, item in metadata.items():\n",
    "    print(f\"{key} : {item}\\n\") "
   ]
  },
  {
   "cell_type": "code",
   "execution_count": null,
   "id": "bf2392ad",
   "metadata": {},
   "outputs": [],
   "source": [
    "# 4. Get force volume piezo image and plot it\n",
    "piezoimg = NANOSC_PFC_FILE.getpiezoimg()\n",
    "\n",
    "plt.figure(figsize=(10,10))\n",
    "plt.imshow(piezoimg[:, :, 0], cmap='afmhot', origin='lower')\n",
    "plt.show()"
   ]
  },
  {
   "cell_type": "code",
   "execution_count": null,
   "id": "b051e8ce",
   "metadata": {},
   "outputs": [],
   "source": [
    "# 5. Get force curve at index 0\n",
    "FC = NANOSC_PFC_FILE.getcurve(0)\n",
    "\n",
    "type(FC)"
   ]
  },
  {
   "cell_type": "code",
   "execution_count": null,
   "id": "79b6979c",
   "metadata": {},
   "outputs": [],
   "source": [
    "help(FC.preprocess_force_curve)"
   ]
  },
  {
   "cell_type": "code",
   "execution_count": null,
   "id": "1e96be43",
   "metadata": {},
   "outputs": [],
   "source": [
    "# 6. Preprocess curve with the deflection sens in the header\n",
    "defl_sens = metadata['defl_sens_nmbyV'] / 1e09 # nm/V --> m/V\n",
    "FC.preprocess_force_curve(defl_sens, metadata['height_channel_key'])\n",
    "plt.figure(figsize=(10,5))\n",
    "for segid, segment in FC.get_segments():\n",
    "    plt.plot(segment.zheight, segment.vdeflection, label=f'Segment: {segid}')\n",
    "plt.xlabel('zheight [m]')\n",
    "plt.ylabel('vdeflection [m]')\n",
    "plt.legend()\n",
    "plt.show()"
   ]
  },
  {
   "cell_type": "code",
   "execution_count": null,
   "id": "493f377c",
   "metadata": {},
   "outputs": [],
   "source": [
    "# 7. Get Force vs Indentation curve\n",
    "poc = [0.5 * 1e-8, 0.0] # in nm\n",
    "spring_k = metadata['spring_const_Nbym']\n",
    "FC.get_force_vs_indentation(poc, spring_k)\n",
    "plt.figure(figsize=(10,5))\n",
    "for segid, segment in FC.get_segments():\n",
    "    plt.plot(segment.indentation, segment.force, label=f'Segment: {segid}')\n",
    "plt.axhline(y=0, color='k', linestyle='--')\n",
    "plt.axvline(x=0, color='k', linestyle='--')\n",
    "plt.xlabel('Indentation [m]')\n",
    "plt.ylabel('Force [N]')\n",
    "plt.legend()\n",
    "plt.show()"
   ]
  },
  {
   "cell_type": "code",
   "execution_count": null,
   "id": "c43e6c46",
   "metadata": {},
   "outputs": [],
   "source": [
    "# 8. Get segment 0\n",
    "FC_segments = FC.get_segments()\n",
    "_, segment_0 = FC_segments[0]\n",
    "type(segment_0)"
   ]
  },
  {
   "cell_type": "code",
   "execution_count": null,
   "id": "5e278f95",
   "metadata": {},
   "outputs": [],
   "source": [
    "# 9. Plot only segment 0\n",
    "plt.figure(figsize=(10,5))\n",
    "plt.plot(segment_0.zheight, segment_0.vdeflection, label=f'Segment: 0')\n",
    "plt.xlabel('zheight [nm]')\n",
    "plt.ylabel('vdeflection [nm]')\n",
    "plt.legend()\n",
    "plt.show()"
   ]
  },
  {
   "cell_type": "code",
   "execution_count": null,
   "id": "68d88022",
   "metadata": {},
   "outputs": [],
   "source": [
    "# 9. Get force vs indentation for segment 0\n",
    "plt.figure(figsize=(10,5))\n",
    "plt.plot(segment_0.indentation, segment_0.force, label=f'Segment: 0')\n",
    "plt.xlabel('zheight [nm]')\n",
    "plt.ylabel('vdeflection [nm]')\n",
    "plt.legend()\n",
    "plt.show()"
   ]
  },
  {
   "cell_type": "code",
   "execution_count": null,
   "id": "d11597bf",
   "metadata": {},
   "outputs": [],
   "source": []
  }
 ],
 "metadata": {
  "kernelspec": {
   "display_name": "Python 3 (ipykernel)",
   "language": "python",
   "name": "python3"
  },
  "language_info": {
   "codemirror_mode": {
    "name": "ipython",
    "version": 3
   },
   "file_extension": ".py",
   "mimetype": "text/x-python",
   "name": "python",
   "nbconvert_exporter": "python",
   "pygments_lexer": "ipython3",
   "version": "3.10.6"
  }
 },
 "nbformat": 4,
 "nbformat_minor": 5
}
