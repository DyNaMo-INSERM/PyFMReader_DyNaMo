{
 "cells": [
  {
   "cell_type": "code",
   "execution_count": 1,
   "id": "ea106796",
   "metadata": {},
   "outputs": [
    {
     "name": "stdout",
     "output_type": "stream",
     "text": [
      "Found existing installation: pyafmreader x.x.x\n",
      "Uninstalling pyafmreader-x.x.x:\n",
      "  Successfully uninstalled pyafmreader-x.x.x\n",
      "Note: you may need to restart the kernel to use updated packages.\n",
      "Collecting git+https://github.com/jlopezalo/pyafmreader.git\n",
      "  Cloning https://github.com/jlopezalo/pyafmreader.git to /private/var/folders/4k/ps22fmxj3gx6vls78t2p63wh0000gn/T/pip-req-build-sj1gwnjk\n",
      "  Running command git clone --filter=blob:none --quiet https://github.com/jlopezalo/pyafmreader.git /private/var/folders/4k/ps22fmxj3gx6vls78t2p63wh0000gn/T/pip-req-build-sj1gwnjk\n",
      "  Resolved https://github.com/jlopezalo/pyafmreader.git to commit 4dc711ef9b23bae15c23bda25675afaec2439466\n",
      "  Preparing metadata (setup.py) ... \u001b[?25ldone\n",
      "\u001b[?25hCollecting fasterzip@ git+https://github.com/TkTech/fasterzip.git\n",
      "  Cloning https://github.com/TkTech/fasterzip.git to /private/var/folders/4k/ps22fmxj3gx6vls78t2p63wh0000gn/T/pip-install-o4jmf_sr/fasterzip_37dc8178060547b081c5aa529ed99765\n",
      "  Running command git clone --filter=blob:none --quiet https://github.com/TkTech/fasterzip.git /private/var/folders/4k/ps22fmxj3gx6vls78t2p63wh0000gn/T/pip-install-o4jmf_sr/fasterzip_37dc8178060547b081c5aa529ed99765\n",
      "  Resolved https://github.com/TkTech/fasterzip.git to commit 09e2cae7821f96f4ba8f6d4122e1045352a656b4\n",
      "  Preparing metadata (setup.py) ... \u001b[?25ldone\n",
      "\u001b[?25hRequirement already satisfied: Cython>=0.29.28 in /Library/Frameworks/Python.framework/Versions/3.7/lib/python3.7/site-packages (from pyafmreader===x.x.x) (0.29.32)\n",
      "Requirement already satisfied: numpy in /Library/Frameworks/Python.framework/Versions/3.7/lib/python3.7/site-packages (from pyafmreader===x.x.x) (1.21.6)\n",
      "Building wheels for collected packages: pyafmreader\n",
      "  Building wheel for pyafmreader (setup.py) ... \u001b[?25ldone\n",
      "\u001b[?25h  Created wheel for pyafmreader: filename=pyafmreader-x.x.x-py3-none-any.whl size=26234 sha256=654e9d99f881035eac66f6415de4a402344bdd8b60885ef49b5fba81815cc70a\n",
      "  Stored in directory: /private/var/folders/4k/ps22fmxj3gx6vls78t2p63wh0000gn/T/pip-ephem-wheel-cache-bf32z3cg/wheels/72/d2/90/28c19c43a1469f295589665c30a6b7af31bd91116cde73356f\n",
      "\u001b[33m  WARNING: Built wheel for pyafmreader is invalid: Metadata 1.2 mandates PEP 440 version, but 'x.x.x' is not\u001b[0m\u001b[33m\n",
      "\u001b[0mFailed to build pyafmreader\n",
      "Installing collected packages: pyafmreader\n",
      "  Running setup.py install for pyafmreader ... \u001b[?25ldone\n",
      "\u001b[33m  DEPRECATION: pyafmreader was installed using the legacy 'setup.py install' method, because a wheel could not be built for it. A possible replacement is to fix the wheel build issue reported above. Discussion can be found at https://github.com/pypa/pip/issues/8368\u001b[0m\u001b[33m\n",
      "\u001b[0m\u001b[?25hSuccessfully installed pyafmreader-x.x.x\n",
      "Note: you may need to restart the kernel to use updated packages.\n"
     ]
    }
   ],
   "source": [
    "# Setup:\n",
    "# 1. Uninstall previous version if already installed\n",
    "%pip uninstall pyafmreader -y\n",
    "# 2. Install pyafmreader from github \n",
    "# (temporary, when 1.0 releases it will be available via pip)\n",
    "%pip install git+https://github.com/jlopezalo/pyafmreader.git"
   ]
  },
  {
   "cell_type": "code",
   "execution_count": 16,
   "id": "62364e0c",
   "metadata": {},
   "outputs": [
    {
     "name": "stdout",
     "output_type": "stream",
     "text": [
      "Help on function loadfile in module pyafmreader.pyafmreader:\n",
      "\n",
      "loadfile(filepath)\n",
      "    Load AFM file. \n",
      "    \n",
      "    Supported formats:\n",
      "        - JPK --> .jpk-force, .jpk-force-map, .jpk-qi-data\n",
      "        - JPK Thermal --> .tnd\n",
      "        - NANOSCOPE --> .spm, .pfc\n",
      "        - UFF --> .uff\n",
      "    \n",
      "            Parameters:\n",
      "                    filepath (str): Path to the file.\n",
      "            \n",
      "            Returns:\n",
      "                    If JPK, NANOSCOPE OR UFF:\n",
      "                        UFF (uff.UFF): Universal File Format object containing loaded data.\n",
      "                    If JPK Thermal:\n",
      "                        Amplitude (m^2/V) (np.array),\n",
      "                        Frequencies (Hz) (np.array),\n",
      "                        Fit-Data (m^2/V) (np.array),\n",
      "                        Parameters (dict)\n",
      "\n"
     ]
    }
   ],
   "source": [
    "# 1. Import pyafmreader loadfile and matplotlib\n",
    "from pyafmreader import loadfile\n",
    "import matplotlib.pyplot as plt\n",
    "\n",
    "# Get documentation about loadfile function\n",
    "help(loadfile)"
   ]
  },
  {
   "cell_type": "code",
   "execution_count": 17,
   "id": "76305922",
   "metadata": {},
   "outputs": [
    {
     "data": {
      "text/plain": [
       "pyafmreader.uff.UFF"
      ]
     },
     "execution_count": 17,
     "metadata": {},
     "output_type": "execute_result"
    }
   ],
   "source": [
    "# 2. Load one of the test files\n",
    "NANOSC_PFC_PATH = '../tests/testfiles/08171528.0_00001.pfc'\n",
    "\n",
    "NANOSC_PFC_FILE = loadfile(NANOSC_PFC_PATH)\n",
    "\n",
    "type(NANOSC_PFC_FILE)"
   ]
  },
  {
   "cell_type": "code",
   "execution_count": 18,
   "id": "dcd6a2d2",
   "metadata": {},
   "outputs": [
    {
     "name": "stdout",
     "output_type": "stream",
     "text": [
      "file_path : ../tests/testfiles/08171528.0_00001.pfc\n",
      "\n",
      "Entry_filename : 08171528.0_00001.pfc\n",
      "\n",
      "file_size_bytes : 67451968\n",
      "\n",
      "file_type : .pfc\n",
      "\n",
      "UFF_code : _1_2_3_4_5\n",
      "\n",
      "Entry_UFF_version : 0\n",
      "\n",
      "version : 0x0940B020\n",
      "\n",
      "instru : BioScope Resolve\n",
      "\n",
      "scanner : beta1_beta1.scn\n",
      "\n",
      "zscan_sens_nmbyV : 29.12\n",
      "\n",
      "force_volume : 1\n",
      "\n",
      "xoffset_nm : 203.125\n",
      "\n",
      "yoffset_nm : -351.563\n",
      "\n",
      "piezo_nb_sampsline : 256\n",
      "\n",
      "xy_closed_loop : Off\n",
      "\n",
      "z_closed_loop : On\n",
      "\n",
      "PFC_nb_samppoints : 256\n",
      "\n",
      "NEW_sync_dist : 88\n",
      "\n",
      "QNM_sync_dist : 89\n",
      "\n",
      "PFC_amp : 10.0\n",
      "\n",
      "ramp_size_V : 20.0\n",
      "\n",
      "PFC_freq : 2.0\n",
      "\n",
      "peakforce : 1\n",
      "\n",
      "defl_sens_nmbyV : 10.0\n",
      "\n",
      "sens_z_sensor : 156.4861\n",
      "\n",
      "scan_rate_Hz : 81.3802\n",
      "\n",
      "speed_forward_Vbys : 242.165\n",
      "\n",
      "speed_reverse_Vbys : 242.165\n",
      "\n",
      "nb_point_approach : 128\n",
      "\n",
      "nb_point_retract : 128\n",
      "\n",
      "trigger_mode : Relative\n",
      "\n",
      "FDC_nb_sampsline : 256\n",
      "\n",
      "defl_sens_corr : 1.08\n",
      "\n",
      "defl_sens_Vbybyte : 0.000375\n",
      "\n",
      "FV_ima_offset : 80960\n",
      "\n",
      "FV_data_length : 262144\n",
      "\n",
      "bytes_per_pxl : 4\n",
      "\n",
      "FV_nb_sampsline : 256\n",
      "\n",
      "FV_nb_lines : 256\n",
      "\n",
      "FV_ima_scanX : 2e-06\n",
      "\n",
      "FV_ima_scanY : 2e-06\n",
      "\n",
      "FV_Zsens : 5.72205e-09\n",
      "\n",
      "data_offset : 343104\n",
      "\n",
      "FDC_data_length : 67108864\n",
      "\n",
      "byte_per_pixel : 2\n",
      "\n",
      "spring_const_Nbym : 0.09\n",
      "\n",
      "z_scale_Vbybyte : 0.000375\n",
      "\n",
      "Entry_tot_nb_curve : 65536\n",
      "\n",
      "ramp_size_nm : 582.4\n",
      "\n",
      "speed_forward_nmbys : 7051.8448\n",
      "\n",
      "speed_reverse_nmbys : 7051.8448\n",
      "\n",
      "zstep_approach_nm : 4.55\n",
      "\n",
      "zstep_retract_nm : 4.55\n",
      "\n",
      "ramp_duration_forward : 0.08258831788243552\n",
      "\n",
      "ramp_duration_reverse : 0.08258831788243552\n",
      "\n",
      "height_channel_key : height\n",
      "\n"
     ]
    }
   ],
   "source": [
    "# 3. Get file metadata\n",
    "metadata = NANOSC_PFC_FILE.filemetadata\n",
    "\n",
    "for key, item in metadata.items():\n",
    "    print(f\"{key} : {item}\\n\") "
   ]
  },
  {
   "cell_type": "code",
   "execution_count": 19,
   "id": "bf2392ad",
   "metadata": {},
   "outputs": [],
   "source": [
    "# 4. Get force volume piezo image and plot it\n",
    "# piezoimg = NANOSC_PFC_FILE.getpiezoimg()\n",
    "\n",
    "# plt.figure(figsize=(10,10))\n",
    "# plt.imshow(piezoimg[:, :, 0], cmap='afmhot', origin='lower')\n",
    "# plt.show()"
   ]
  },
  {
   "cell_type": "code",
   "execution_count": 20,
   "id": "b051e8ce",
   "metadata": {},
   "outputs": [
    {
     "data": {
      "text/plain": [
       "pyafmreader.utils.forcecurve.ForceCurve"
      ]
     },
     "execution_count": 20,
     "metadata": {},
     "output_type": "execute_result"
    }
   ],
   "source": [
    "# 5. Get force curve at index 0\n",
    "FC = NANOSC_PFC_FILE.getcurve(0)\n",
    "\n",
    "type(FC)"
   ]
  },
  {
   "cell_type": "code",
   "execution_count": 21,
   "id": "79b6979c",
   "metadata": {},
   "outputs": [
    {
     "name": "stdout",
     "output_type": "stream",
     "text": [
      "Help on method preprocess_force_curve in module pyafmreader.utils.forcecurve:\n",
      "\n",
      "preprocess_force_curve(deflection_sens, height_channel_key, y0=None) method of pyafmreader.utils.forcecurve.ForceCurve instance\n",
      "    Computes Vertical Deflection in m and populates the vdeflection, zheight \n",
      "    and time properties for each segment in the force curve.\n",
      "    \n",
      "    vDeflection(m) = (vDeflection(V) - baseline(V)) * deflection_sens(m/V)\n",
      "    \n",
      "    if y0 is not None:\n",
      "        vDeflection(m) = (vDeflection(V) - y0(V)) * deflection_sens(m/V)\n",
      "    \n",
      "            Parameters:\n",
      "                    deflection_sens (float): In m/V\n",
      "                    height_channel_key (str): Dictionary key to find height data in self.segment_formated_data.\n",
      "                    y0 (float): Manual offset for the vertical deflection, in Volts.\n",
      "            \n",
      "            Returns: None\n",
      "\n"
     ]
    }
   ],
   "source": [
    "help(FC.preprocess_force_curve)"
   ]
  },
  {
   "cell_type": "code",
   "execution_count": 22,
   "id": "1e96be43",
   "metadata": {},
   "outputs": [
    {
     "data": {
      "image/png": "[encoded data removed]",
      "text/plain": [
       "<Figure size 720x360 with 1 Axes>"
      ]
     },
     "metadata": {
      "needs_background": "light"
     },
     "output_type": "display_data"
    }
   ],
   "source": [
    "# 6. Preprocess curve with the deflection sens in the header\n",
    "defl_sens = metadata['defl_sens_nmbyV'] / 1e09 # nm/V --> m/V\n",
    "FC.preprocess_force_curve(defl_sens, metadata['height_channel_key'])\n",
    "plt.figure(figsize=(10,5))\n",
    "for segid, segment in FC.get_segments():\n",
    "    plt.plot(segment.zheight, segment.vdeflection, label=f'Segment: {segid}')\n",
    "plt.xlabel('zheight [m]')\n",
    "plt.ylabel('vdeflection [m]')\n",
    "plt.legend()\n",
    "plt.show()"
   ]
  },
  {
   "cell_type": "code",
   "execution_count": 23,
   "id": "493f377c",
   "metadata": {},
   "outputs": [
    {
     "data": {
      "image/png": "[encoded data removed]",
      "text/plain": [
       "<Figure size 720x360 with 1 Axes>"
      ]
     },
     "metadata": {
      "needs_background": "light"
     },
     "output_type": "display_data"
    }
   ],
   "source": [
    "# 7. Get Force vs Indentation curve\n",
    "poc = [0.5 * 1e-8, 0.0] # in nm\n",
    "spring_k = metadata['spring_const_Nbym']\n",
    "FC.get_force_vs_indentation(poc, spring_k)\n",
    "plt.figure(figsize=(10,5))\n",
    "for segid, segment in FC.get_segments():\n",
    "    plt.plot(segment.indentation, segment.force, label=f'Segment: {segid}')\n",
    "plt.axhline(y=0, color='k', linestyle='--')\n",
    "plt.axvline(x=0, color='k', linestyle='--')\n",
    "plt.xlabel('Indentation [m]')\n",
    "plt.ylabel('Force [N]')\n",
    "plt.legend()\n",
    "plt.show()"
   ]
  },
  {
   "cell_type": "code",
   "execution_count": 24,
   "id": "c43e6c46",
   "metadata": {},
   "outputs": [
    {
     "data": {
      "text/plain": [
       "pyafmreader.utils.segment.Segment"
      ]
     },
     "execution_count": 24,
     "metadata": {},
     "output_type": "execute_result"
    }
   ],
   "source": [
    "# 8. Get segment 0\n",
    "FC_segments = FC.get_segments()\n",
    "_, segment_0 = FC_segments[0]\n",
    "type(segment_0)"
   ]
  },
  {
   "cell_type": "code",
   "execution_count": 25,
   "id": "5e278f95",
   "metadata": {},
   "outputs": [
    {
     "data": {
      "image/png": "[encoded data removed]",
      "text/plain": [
       "<Figure size 720x360 with 1 Axes>"
      ]
     },
     "metadata": {
      "needs_background": "light"
     },
     "output_type": "display_data"
    }
   ],
   "source": [
    "# 9. Plot only segment 0\n",
    "plt.figure(figsize=(10,5))\n",
    "plt.plot(segment_0.zheight, segment_0.vdeflection, label=f'Segment: 0')\n",
    "plt.xlabel('zheight [nm]')\n",
    "plt.ylabel('vdeflection [nm]')\n",
    "plt.legend()\n",
    "plt.show()"
   ]
  },
  {
   "cell_type": "code",
   "execution_count": 26,
   "id": "68d88022",
   "metadata": {},
   "outputs": [
    {
     "data": {
      "image/png": "[encoded data removed]",
      "text/plain": [
       "<Figure size 720x360 with 1 Axes>"
      ]
     },
     "metadata": {
      "needs_background": "light"
     },
     "output_type": "display_data"
    }
   ],
   "source": [
    "# 9. Get force vs indentation for segment 0\n",
    "plt.figure(figsize=(10,5))\n",
    "plt.plot(segment_0.indentation, segment_0.force, label=f'Segment: 0')\n",
    "plt.xlabel('zheight [nm]')\n",
    "plt.ylabel('vdeflection [nm]')\n",
    "plt.legend()\n",
    "plt.show()"
   ]
  },
  {
   "cell_type": "code",
   "execution_count": null,
   "id": "d11597bf",
   "metadata": {},
   "outputs": [],
   "source": []
  }
 ],
 "metadata": {
  "kernelspec": {
   "display_name": "Python 3 (ipykernel)",
   "language": "python",
   "name": "python3"
  },
  "language_info": {
   "codemirror_mode": {
    "name": "ipython",
    "version": 3
   },
   "file_extension": ".py",
   "mimetype": "text/x-python",
   "name": "python",
   "nbconvert_exporter": "python",
   "pygments_lexer": "ipython3",
   "version": "3.7.6"
  }
 },
 "nbformat": 4,
 "nbformat_minor": 5
}
