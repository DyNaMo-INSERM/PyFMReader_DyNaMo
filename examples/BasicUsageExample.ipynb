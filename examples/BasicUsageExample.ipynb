{
 "cells": [
  {
   "cell_type": "code",
   "execution_count": 8,
   "id": "ea106796",
   "metadata": {
    "tags": []
   },
   "outputs": [
    {
     "name": "stdout",
     "output_type": "stream",
     "text": [
      "Collecting pyafmreader\n",
      "  Using cached pyafmreader-0.1.2-py3-none-any.whl (21 kB)\n",
      "Installing collected packages: pyafmreader\n",
      "  Attempting uninstall: pyafmreader\n",
      "    Found existing installation: pyafmreader 0.1.2\n",
      "    Uninstalling pyafmreader-0.1.2:\n",
      "      Successfully uninstalled pyafmreader-0.1.2\n",
      "Successfully installed pyafmreader-0.1.2\n",
      "Note: you may need to restart the kernel to use updated packages.\n"
     ]
    },
    {
     "name": "stderr",
     "output_type": "stream",
     "text": [
      "WARNING: Ignoring invalid distribution -cikit-learn (c:\\users\\javier.lopez\\appdata\\local\\programs\\python\\python39\\lib\\site-packages)\n",
      "WARNING: Ignoring invalid distribution -umpy (c:\\users\\javier.lopez\\appdata\\local\\programs\\python\\python39\\lib\\site-packages)\n",
      "WARNING: Ignoring invalid distribution -cikit-learn (c:\\users\\javier.lopez\\appdata\\local\\programs\\python\\python39\\lib\\site-packages)\n",
      "WARNING: Ignoring invalid distribution -umpy (c:\\users\\javier.lopez\\appdata\\local\\programs\\python\\python39\\lib\\site-packages)\n",
      "\n",
      "[notice] A new release of pip is available: 23.1.2 -> 23.2.1\n",
      "[notice] To update, run: C:\\Users\\javier.lopez\\AppData\\Local\\Programs\\Python\\Python39\\python.exe -m pip install --upgrade pip\n"
     ]
    }
   ],
   "source": [
    "# Install pyafmreader\n",
    "%pip install pyafmreader --force"
   ]
  },
  {
   "cell_type": "code",
   "execution_count": 9,
   "id": "73d613cd-9bcf-42c5-821d-5f9c76cf504e",
   "metadata": {
    "tags": []
   },
   "outputs": [
    {
     "ename": "ModuleNotFoundError",
     "evalue": "No module named 'pyafmreader'",
     "output_type": "error",
     "traceback": [
      "\u001b[1;31m---------------------------------------------------------------------------\u001b[0m",
      "\u001b[1;31mModuleNotFoundError\u001b[0m                       Traceback (most recent call last)",
      "Cell \u001b[1;32mIn[9], line 1\u001b[0m\n\u001b[1;32m----> 1\u001b[0m \u001b[38;5;28;01mimport\u001b[39;00m \u001b[38;5;21;01mpyafmreader\u001b[39;00m\n",
      "\u001b[1;31mModuleNotFoundError\u001b[0m: No module named 'pyafmreader'"
     ]
    }
   ],
   "source": [
    "import pyafmreader"
   ]
  },
  {
   "cell_type": "code",
   "execution_count": 5,
   "id": "62364e0c",
   "metadata": {
    "tags": []
   },
   "outputs": [
    {
     "ename": "ModuleNotFoundError",
     "evalue": "No module named 'pyafmreader'",
     "output_type": "error",
     "traceback": [
      "\u001b[1;31m---------------------------------------------------------------------------\u001b[0m",
      "\u001b[1;31mModuleNotFoundError\u001b[0m                       Traceback (most recent call last)",
      "Cell \u001b[1;32mIn[5], line 2\u001b[0m\n\u001b[0;32m      1\u001b[0m \u001b[38;5;66;03m# 1. Import pyafmreader loadfile and matplotlib\u001b[39;00m\n\u001b[1;32m----> 2\u001b[0m \u001b[38;5;28;01mfrom\u001b[39;00m \u001b[38;5;21;01mpyafmreader\u001b[39;00m \u001b[38;5;28;01mimport\u001b[39;00m loadfile\n\u001b[0;32m      3\u001b[0m \u001b[38;5;28;01mimport\u001b[39;00m \u001b[38;5;21;01mmatplotlib\u001b[39;00m\u001b[38;5;21;01m.\u001b[39;00m\u001b[38;5;21;01mpyplot\u001b[39;00m \u001b[38;5;28;01mas\u001b[39;00m \u001b[38;5;21;01mplt\u001b[39;00m\n\u001b[0;32m      4\u001b[0m \u001b[38;5;28;01mimport\u001b[39;00m \u001b[38;5;21;01mos\u001b[39;00m\n",
      "\u001b[1;31mModuleNotFoundError\u001b[0m: No module named 'pyafmreader'"
     ]
    }
   ],
   "source": [
    "# 1. Import pyafmreader loadfile and matplotlib\n",
    "from pyafmreader import loadfile\n",
    "import matplotlib.pyplot as plt\n",
    "import os\n",
    "\n",
    "# Get documentation about loadfile function\n",
    "help(loadfile)"
   ]
  },
  {
   "cell_type": "code",
   "execution_count": 6,
   "id": "76305922",
   "metadata": {
    "tags": []
   },
   "outputs": [
    {
     "ename": "NameError",
     "evalue": "name 'loadfile' is not defined",
     "output_type": "error",
     "traceback": [
      "\u001b[1;31m---------------------------------------------------------------------------\u001b[0m",
      "\u001b[1;31mNameError\u001b[0m                                 Traceback (most recent call last)",
      "Cell \u001b[1;32mIn[6], line 4\u001b[0m\n\u001b[0;32m      1\u001b[0m \u001b[38;5;66;03m# 2. Load one of the test files\u001b[39;00m\n\u001b[0;32m      2\u001b[0m NANOSC_PFC_PATH \u001b[38;5;241m=\u001b[39m \u001b[38;5;124m'\u001b[39m\u001b[38;5;124m../tests/testfiles/08171528.0_00001.pfc\u001b[39m\u001b[38;5;124m'\u001b[39m\n\u001b[1;32m----> 4\u001b[0m NANOSC_PFC_FILE \u001b[38;5;241m=\u001b[39m \u001b[43mloadfile\u001b[49m(NANOSC_PFC_PATH)\n\u001b[0;32m      6\u001b[0m \u001b[38;5;28mtype\u001b[39m(NANOSC_PFC_FILE)\n",
      "\u001b[1;31mNameError\u001b[0m: name 'loadfile' is not defined"
     ]
    }
   ],
   "source": [
    "# 2. Load one of the test files\n",
    "NANOSC_PFC_PATH = '../tests/testfiles/08171528.0_00001.pfc'\n",
    "\n",
    "NANOSC_PFC_FILE = loadfile(NANOSC_PFC_PATH)\n",
    "\n",
    "type(NANOSC_PFC_FILE)"
   ]
  },
  {
   "cell_type": "code",
   "execution_count": null,
   "id": "dcd6a2d2",
   "metadata": {
    "tags": []
   },
   "outputs": [],
   "source": [
    "# 3. Get file metadata\n",
    "metadata = NANOSC_PFC_FILE.filemetadata\n",
    "\n",
    "for key, item in metadata.items():\n",
    "    print(f\"{key} : {item}\\n\") "
   ]
  },
  {
   "cell_type": "code",
   "execution_count": null,
   "id": "bf2392ad",
   "metadata": {
    "tags": []
   },
   "outputs": [],
   "source": [
    "# 4. Get force volume piezo image and plot it\n",
    "piezoimg = NANOSC_PFC_FILE.getpiezoimg()\n",
    "\n",
    "plt.figure(figsize=(10,10))\n",
    "plt.imshow(piezoimg[:, :, 0], cmap='afmhot', origin='lower')\n",
    "plt.show()"
   ]
  },
  {
   "cell_type": "code",
   "execution_count": null,
   "id": "b051e8ce",
   "metadata": {
    "tags": []
   },
   "outputs": [],
   "source": [
    "# 5. Get force curve at index 0\n",
    "FC = NANOSC_PFC_FILE.getcurve(0)\n",
    "\n",
    "type(FC)"
   ]
  },
  {
   "cell_type": "code",
   "execution_count": null,
   "id": "79b6979c",
   "metadata": {
    "tags": []
   },
   "outputs": [],
   "source": [
    "help(FC.preprocess_force_curve)"
   ]
  },
  {
   "cell_type": "code",
   "execution_count": null,
   "id": "1e96be43",
   "metadata": {
    "tags": []
   },
   "outputs": [],
   "source": [
    "# 6. Preprocess curve with the deflection sens in the header\n",
    "defl_sens = metadata['defl_sens_nmbyV'] / 1e09 # nm/V --> m/V\n",
    "FC.preprocess_force_curve(defl_sens, metadata['height_channel_key'])\n",
    "plt.figure(figsize=(10,5))\n",
    "for segid, segment in FC.get_segments():\n",
    "    plt.plot(segment.zheight, segment.vdeflection, label=f'Segment: {segid}')\n",
    "plt.xlabel('zheight [m]')\n",
    "plt.ylabel('vdeflection [m]')\n",
    "plt.legend()\n",
    "plt.show()"
   ]
  },
  {
   "cell_type": "code",
   "execution_count": null,
   "id": "493f377c",
   "metadata": {
    "tags": []
   },
   "outputs": [],
   "source": [
    "# 7. Get Force vs Indentation curve\n",
    "poc = [0.5 * 1e-8, 0.0] # in nm\n",
    "spring_k = metadata['spring_const_Nbym']\n",
    "FC.get_force_vs_indentation(poc, spring_k)\n",
    "plt.figure(figsize=(10,5))\n",
    "for segid, segment in FC.get_segments():\n",
    "    plt.plot(segment.indentation, segment.force, label=f'Segment: {segid}')\n",
    "plt.axhline(y=0, color='k', linestyle='--')\n",
    "plt.axvline(x=0, color='k', linestyle='--')\n",
    "plt.xlabel('Indentation [m]')\n",
    "plt.ylabel('Force [N]')\n",
    "plt.legend()\n",
    "plt.show()"
   ]
  },
  {
   "cell_type": "code",
   "execution_count": null,
   "id": "c43e6c46",
   "metadata": {
    "tags": []
   },
   "outputs": [],
   "source": [
    "# 8. Get segment 0\n",
    "FC_segments = FC.get_segments()\n",
    "_, segment_0 = FC_segments[0]\n",
    "type(segment_0)"
   ]
  },
  {
   "cell_type": "code",
   "execution_count": null,
   "id": "5e278f95",
   "metadata": {
    "tags": []
   },
   "outputs": [],
   "source": [
    "# 9. Plot only segment 0\n",
    "plt.figure(figsize=(10,5))\n",
    "plt.plot(segment_0.zheight, segment_0.vdeflection, label=f'Segment: 0')\n",
    "plt.xlabel('zheight [nm]')\n",
    "plt.ylabel('vdeflection [nm]')\n",
    "plt.legend()\n",
    "plt.show()"
   ]
  },
  {
   "cell_type": "code",
   "execution_count": null,
   "id": "68d88022",
   "metadata": {
    "tags": []
   },
   "outputs": [],
   "source": [
    "# 9. Get force vs indentation for segment 0\n",
    "plt.figure(figsize=(10,5))\n",
    "plt.plot(segment_0.indentation, segment_0.force, label=f'Segment: 0')\n",
    "plt.xlabel('zheight [nm]')\n",
    "plt.ylabel('vdeflection [nm]')\n",
    "plt.legend()\n",
    "plt.show()"
   ]
  },
  {
   "cell_type": "code",
   "execution_count": null,
   "id": "d11597bf",
   "metadata": {},
   "outputs": [],
   "source": []
  },
  {
   "cell_type": "code",
   "execution_count": null,
   "id": "382625ba-e6a4-4aeb-a2de-0b1adf9e35ec",
   "metadata": {},
   "outputs": [],
   "source": []
  },
  {
   "cell_type": "code",
   "execution_count": null,
   "id": "3daa8bf7-835c-4c03-b314-6b9599642efb",
   "metadata": {},
   "outputs": [],
   "source": []
  }
 ],
 "metadata": {
  "kernelspec": {
   "display_name": "Python 3 (ipykernel)",
   "language": "python",
   "name": "python3"
  },
  "language_info": {
   "codemirror_mode": {
    "name": "ipython",
    "version": 3
   },
   "file_extension": ".py",
   "mimetype": "text/x-python",
   "name": "python",
   "nbconvert_exporter": "python",
   "pygments_lexer": "ipython3",
   "version": "3.9.13"
  }
 },
 "nbformat": 4,
 "nbformat_minor": 5
}
